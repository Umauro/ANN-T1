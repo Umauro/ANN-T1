{
 "cells": [
  {
   "cell_type": "markdown",
   "metadata": {},
   "source": [
    "<img src=\"http://www.exalumnos.usm.cl/wp-content/uploads/2015/06/Isotipo-Negro.gif\" title=\"Title text\" width=\"20%\" height=\"20%\" />\n",
    "\n",
    "\n",
    "<hr style=\"height:2px;border:none\"/>\n",
    "<h1 align='center'> INF-395 Redes Neuronales Artificiales 2019-1</h1>\n",
    "\n",
    "<H3 align='center'> Tarea 1 - Redes Neuronales y *Deep Learning* </H3>\n",
    "<hr style=\"height:2px;border:none\"/>\n",
    "\n",
    "## Integrantes\n",
    "\n",
    "* _**Francisco Olivares - 201473575-8 - francisco.olivars.14@sansano.usm.cl**_\n",
    "* _**Gabriel Valenzuela - 201473505-7 - gabriel.valenzuel.14@sansano.usm.cl**_\n",
    "* _**Felipe Vega - 201473511-1 - felipe.vega.14@sansano.usm.cl**_\n",
    "\n",
    "\n",
    "\n",
    "<hr style=\"height:2px;border:none\"/>"
   ]
  },
  {
   "cell_type": "code",
   "execution_count": 1,
   "metadata": {},
   "outputs": [
    {
     "name": "stderr",
     "output_type": "stream",
     "text": [
      "Using TensorFlow backend.\n"
     ]
    },
    {
     "data": {
      "text/html": [
       "<style>.container { width:95% !important; } .text_cell_render p {font-size: 20}</style>"
      ],
      "text/plain": [
       "<IPython.core.display.HTML object>"
      ]
     },
     "metadata": {},
     "output_type": "display_data"
    }
   ],
   "source": [
    "#Bloque de los imports\n",
    "#Soy tu bloque pa' los imports papi\n",
    "#Librerías\n",
    "import pandas as pd\n",
    "import numpy as np\n",
    "import matplotlib.pyplot as plt\n",
    "from ipywidgets import interact \n",
    "\n",
    "\n",
    "#Sklearn stuff\n",
    "from sklearn.model_selection import train_test_split\n",
    "from sklearn.preprocessing import StandardScaler\n",
    "\n",
    "#Keras stuff\n",
    "from keras.models import Sequential\n",
    "from keras.layers.core import Dense\n",
    "from keras.optimizers import SGD\n",
    "\n",
    "#Que se vea ancho el jupyter\n",
    "from IPython.display import IFrame\n",
    "from IPython.core.display import display, HTML\n",
    "display(HTML(\"<style>.container { width:95% !important; } .text_cell_render p {font-size: 20}</style>\"))\n",
    "\n",
    "\n",
    "#Cantidad de columnas a mostrar con pandas\n",
    "pd.set_option('display.max_columns',100)"
   ]
  },
  {
   "cell_type": "markdown",
   "metadata": {},
   "source": [
    "Se procede a cargar el dataset"
   ]
  },
  {
   "cell_type": "code",
   "execution_count": 2,
   "metadata": {},
   "outputs": [],
   "source": [
    "df_sets = pd.read_csv(\"data/koi_sets_unb.csv\")\n",
    "\n",
    "mask_train = (df_sets[\"Set\"] == \"Train\").values\n",
    "mask_test = (df_sets[\"Set\"] == \"Test\").values\n",
    "\n",
    "df_labels = pd.read_csv(\"data/koi_labels.csv\")\n",
    "df_X = pd.read_csv(\"data/koi_light_curves_X.csv\")\n",
    "df_labels_train = df_labels[mask_train]\n",
    "df_labels_test = df_labels[mask_test]\n",
    "df_X_train = df_X[mask_train]\n",
    "df_X_test = df_X[mask_test]"
   ]
  },
  {
   "cell_type": "code",
   "execution_count": 3,
   "metadata": {},
   "outputs": [],
   "source": [
    "y_train = ((df_labels_train[\"NExScI Disposition\"]==\"CONFIRMED\")*1).values\n",
    "y_test = ((df_labels_test[\"NExScI Disposition\"]==\"CONFIRMED\")*1).values\n",
    "df_X_train = df_X_train.reset_index(drop=True)\n",
    "df_X_test = df_X_test.reset_index(drop=True)\n",
    "df_X_train.fillna(df_X_train.median(), inplace=True)\n",
    "df_X_test.fillna(df_X_test.median(), inplace=True)\n",
    "X_train = df_X_train.values[:,1:]\n",
    "X_test = df_X_test.values[:,1:]"
   ]
  },
  {
   "cell_type": "code",
   "execution_count": 4,
   "metadata": {},
   "outputs": [
    {
     "name": "stderr",
     "output_type": "stream",
     "text": [
      "/home/francisco/anaconda3/envs/redesneuronales/lib/python3.6/site-packages/sklearn/utils/validation.py:595: DataConversionWarning: Data with input dtype object was converted to float64 by StandardScaler.\n",
      "  warnings.warn(msg, DataConversionWarning)\n",
      "/home/francisco/anaconda3/envs/redesneuronales/lib/python3.6/site-packages/sklearn/utils/validation.py:595: DataConversionWarning: Data with input dtype object was converted to float64 by StandardScaler.\n",
      "  warnings.warn(msg, DataConversionWarning)\n",
      "/home/francisco/anaconda3/envs/redesneuronales/lib/python3.6/site-packages/sklearn/utils/validation.py:595: DataConversionWarning: Data with input dtype object was converted to float64 by StandardScaler.\n",
      "  warnings.warn(msg, DataConversionWarning)\n",
      "/home/francisco/anaconda3/envs/redesneuronales/lib/python3.6/site-packages/sklearn/utils/validation.py:595: DataConversionWarning: Data with input dtype object was converted to float64 by StandardScaler.\n",
      "  warnings.warn(msg, DataConversionWarning)\n"
     ]
    }
   ],
   "source": [
    "X_train, X_val, y_train, y_val = train_test_split(X_train, y_train, test_size=0.2,stratify=y_train,random_state=42)\n",
    "scaler = StandardScaler()\n",
    "scaler.fit(X_train)\n",
    "X_train_scaled = scaler.transform(X_train)\n",
    "X_val_scaled = scaler.transform(X_val)\n",
    "X_test_scaled =  scaler.transform(X_test)"
   ]
  },
  {
   "cell_type": "markdown",
   "metadata": {},
   "source": [
    "## a)\n",
    "En esta primera instancia se trabajará con una red *shallow* (poco profunda) con una gran cantidad de neuronas situadas en una capa, inicializada con pesos uniforme. Visualice el gradiente de la función de pérdida (*loss*) para el conjunto de entrenamiento (promedio del gradiente de cada dato) respecto a los pesos en las distintas capas, para esto se le pedirá el cálculo del gradiente para una capa mediante la función de *gradients* (__[link](https://www.tensorflow.org/api_docs/python/tf/keras/backend/gradients)__) en el *backend* de Keras, otra opción es a través de un __[monitor](https://keras.io/callbacks/#tensorboard)__. Deberá generar un **histograma** para todos los pesos de cada capa antes y despues del entrenamiento con 50 *epochs*. Comente."
   ]
  },
  {
   "cell_type": "code",
   "execution_count": 5,
   "metadata": {},
   "outputs": [
    {
     "name": "stdout",
     "output_type": "stream",
     "text": [
      "WARNING:tensorflow:From /home/francisco/anaconda3/envs/redesneuronales/lib/python3.6/site-packages/tensorflow/python/framework/op_def_library.py:263: colocate_with (from tensorflow.python.framework.ops) is deprecated and will be removed in a future version.\n",
      "Instructions for updating:\n",
      "Colocations handled automatically by placer.\n",
      "WARNING:tensorflow:From /home/francisco/anaconda3/envs/redesneuronales/lib/python3.6/site-packages/tensorflow/python/ops/math_ops.py:3066: to_int32 (from tensorflow.python.ops.math_ops) is deprecated and will be removed in a future version.\n",
      "Instructions for updating:\n",
      "Use tf.cast instead.\n"
     ]
    }
   ],
   "source": [
    "# Calculo de gradientes\n",
    "from keras import backend as K\n",
    "import keras\n",
    "import tensorflow as tf\n",
    "\n",
    "model = Sequential()\n",
    "model.add(Dense(1280, input_dim=X_train_scaled.shape[1], kernel_initializer='uniform',activation='sigmoid'))\n",
    "model.add(Dense(1, kernel_initializer='uniform',activation='sigmoid'))\n",
    "\n",
    "# model.compile(optimizer=SGD(lr=0.01), loss='mean_squared_error', metrics=['acc'])\n",
    "model.compile(optimizer=SGD(lr=0.01), loss='binary_crossentropy', metrics=['acc'])\n",
    "\n",
    "# Se saca la función de perdida a ocupar\n",
    "# loss = keras.losses.mean_squared_error(model.output,y_train)\n",
    "loss = keras.losses.binary_crossentropy(model.output,K.variable(np.reshape(y_train, (-1, 1))))\n",
    "\n",
    "# Los pesos entrenables de la red\n",
    "listOfVariableTensors = model.trainable_weights \n",
    "\n",
    "# Se manda a crear la función que calculara los gradientes\n",
    "gradients = K.gradients(loss, listOfVariableTensors)\n",
    "sess = K.get_session()\n",
    "\n",
    "# Se hecha a correr\n",
    "evaluated_gradients_A = sess.run(gradients,feed_dict={model.input:X_train_scaled})\n",
    "\n",
    "# Como son varios ejemplos, estos terminan sumados por lo que se tiene que dividir\n",
    "# por el número de ejemplos para sacar el promedio del valor de los gradientes\n",
    "evaluated_gradients_A = [gradient/len(y_train) for gradient in evaluated_gradients_A]"
   ]
  },
  {
   "cell_type": "code",
   "execution_count": 6,
   "metadata": {},
   "outputs": [],
   "source": [
    "# Se entrena el modelo con 50 epochs y se hace lo mismo que arriba\n",
    "history_A = model.fit(X_train_scaled, y_train, epochs=50, verbose=0, validation_data=(X_val_scaled, y_val))\n",
    "evaluated_gradients_50_A = sess.run(gradients,feed_dict={model.input:X_train_scaled})\n",
    "evaluated_gradients_50_A = [gradient/len(y_train) for gradient in evaluated_gradients_50_A]"
   ]
  },
  {
   "cell_type": "code",
   "execution_count": 7,
   "metadata": {},
   "outputs": [
    {
     "name": "stdout",
     "output_type": "stream",
     "text": [
      "Gradientes pre-entrenamiento\n"
     ]
    },
    {
     "data": {
      "image/png": "[encoded data removed]",
      "text/plain": [
       "<Figure size 1296x288 with 2 Axes>"
      ]
     },
     "metadata": {
      "needs_background": "light"
     },
     "output_type": "display_data"
    },
    {
     "name": "stdout",
     "output_type": "stream",
     "text": [
      "Gradientes post-entrenamiento\n"
     ]
    },
    {
     "data": {
      "image/png": "[encoded data removed]",
      "text/plain": [
       "<Figure size 1296x288 with 2 Axes>"
      ]
     },
     "metadata": {
      "needs_background": "light"
     },
     "output_type": "display_data"
    }
   ],
   "source": [
    "def show_hist_1(gradients):\n",
    "    points_1 = list()\n",
    "    for arr in gradients[0]:\n",
    "        for i in arr:\n",
    "            points_1.append(i)\n",
    "\n",
    "    points_2 = list()\n",
    "    for arr in gradients[2]:\n",
    "        for i in arr:\n",
    "            points_2.append(i)\n",
    "\n",
    "\n",
    "    plt.figure(figsize=(18,4))\n",
    "\n",
    "    plt.subplot(1, 2, 1)\n",
    "    plt.hist(points_1)\n",
    "    plt.title('Histograma capa 1')\n",
    "    plt.xlabel('Gradiente')\n",
    "    plt.ylabel('Frecuencia')\n",
    "    plt.ticklabel_format(style='sci', axis='x', scilimits=(0,0))\n",
    "\n",
    "    plt.subplot(1, 2, 2)\n",
    "    plt.hist(points_2)\n",
    "    plt.title('Histograma capa 2')\n",
    "    plt.xlabel('Gradiente')\n",
    "    plt.ylabel('Frecuencia')\n",
    "    plt.ticklabel_format(style='sci', axis='x', scilimits=(0,0))\n",
    "\n",
    "    plt.show()\n",
    "    #axes = plt.gca()\n",
    "    # axes.set_xlim([xmin,xmax])\n",
    "    # axes.set_ylim([0,30000])\n",
    "    \n",
    "    #plt.show()\n",
    "    \n",
    "print(\"Gradientes pre-entrenamiento\")\n",
    "show_hist_1(evaluated_gradients_A)\n",
    "print(\"Gradientes post-entrenamiento\")\n",
    "show_hist_1(evaluated_gradients_50_A)"
   ]
  },
  {
   "cell_type": "markdown",
   "metadata": {},
   "source": [
    "Al vel el histograma de los gradientes se aprecia que previo al entrenamiento la gran mayoria de los gradientes de la primera capa están en torno al 0. Esto era de esperarse ya que la magnitud de los gradientes de una capa superior a otra inferior debiese decrecer abruptamente.\n",
    "\n",
    "En el caso después del entrenamiento (post 50 epochs) se aprecia que la magnitud de los gradientes de la capa de salida ha disminuido un orden de magnitud. Esto se debe a que después de haber hecho 50 epochs por el método de optimización del SGD se espera que el punto actual en el que se está parado (pesos de la red) estén más cerca de un candidato a óptimo. Respecto a la primera capa se aprecia que se mantienen los ordenes de magnitud de los gradientes, pero aumentaron considerablemente la cantidad de gradientes con valores en torno al 0. "
   ]
  },
  {
   "cell_type": "code",
   "execution_count": 8,
   "metadata": {},
   "outputs": [
    {
     "data": {
      "image/png": "[encoded data removed]",
      "text/plain": [
       "<Figure size 1440x360 with 1 Axes>"
      ]
     },
     "metadata": {
      "needs_background": "light"
     },
     "output_type": "display_data"
    }
   ],
   "source": [
    "def chart_acc(history, epoch_number):\n",
    "    epoch_arr = [i+1 for i in range(epoch_number)]\n",
    "    plt.figure(figsize = (20,5))\n",
    "    plt.plot(epoch_arr, history.history['acc'], '.-')\n",
    "    plt.plot(epoch_arr, history.history['val_acc'], '.-')\n",
    "    plt.xlabel('Epoch')\n",
    "    plt.ylabel('Accuracy')\n",
    "    plt.legend( ('Train', 'Val') )\n",
    "\n",
    "    plt.show()\n",
    "\n",
    "chart_acc(history_A, 50)"
   ]
  },
  {
   "cell_type": "markdown",
   "metadata": {},
   "source": [
    "Al ver el gráfico del accuracy en función de los epochs se aprecia que efectivamente la red neuronal aprende a clasificar si es exoplaneta o no. También se corrobora lo que se había dicho anteriormente de que la red se va acercando a un óptimo (por el SGD) haciendo que tenga sentido que la magnitud de los gradientes decremente."
   ]
  },
  {
   "cell_type": "markdown",
   "metadata": {},
   "source": [
    "## b)"
   ]
  },
  {
   "cell_type": "code",
   "execution_count": null,
   "metadata": {},
   "outputs": [],
   "source": [
    "model = Sequential()\n",
    "model.add(Dense(256, input_dim=X_train_scaled.shape[1], kernel_initializer='uniform',activation='sigmoid'))\n",
    "model.add(Dense(256, kernel_initializer='uniform',activation='sigmoid'))\n",
    "model.add(Dense(256, kernel_initializer='uniform',activation='sigmoid'))\n",
    "model.add(Dense(256, kernel_initializer='uniform',activation='sigmoid'))\n",
    "model.add(Dense(256, kernel_initializer='uniform',activation='sigmoid'))\n",
    "model.add(Dense(1, kernel_initializer='uniform',activation='sigmoid'))\n",
    "\n",
    "# model.compile(optimizer=SGD(lr=0.01), loss='mean_squared_error')\n",
    "model.compile(optimizer=SGD(lr=0.01), loss='binary_crossentropy', metrics=['acc'])\n",
    "\n",
    "# loss = keras.losses.mean_squared_error(model.output,y_train)\n",
    "loss = keras.losses.binary_crossentropy(model.output,K.variable(np.reshape(y_train, (-1, 1))))\n",
    "\n",
    "listOfVariableTensors = model.trainable_weights \n",
    "gradients = K.gradients(loss, listOfVariableTensors) #We can now calculate the gradients.\n",
    "sess = K.get_session()\n",
    "\n",
    "evaluated_gradients_B = sess.run(gradients,feed_dict={model.input:X_train_scaled})\n",
    "evaluated_gradients_B = [gradient/len(y_train) for gradient in evaluated_gradients_B]\n",
    "\n",
    "history = model.fit(X_train_scaled, y_train, epochs=50, verbose=0, validation_data=(X_val_scaled, y_val))\n",
    "\n",
    "evaluated_gradients_50_B = sess.run(gradients,feed_dict={model.input:X_train_scaled})\n",
    "evaluated_gradients_50_B = [gradient/len(y_train) for gradient in evaluated_gradients_50_B]"
   ]
  },
  {
   "cell_type": "code",
   "execution_count": null,
   "metadata": {},
   "outputs": [],
   "source": [
    "def show_hist_2(gradients):\n",
    "    points_1 = list()\n",
    "    for arr in gradients[0]:\n",
    "        for i in arr:\n",
    "            points_1.append(i)\n",
    "\n",
    "    points_2 = list()\n",
    "    for arr in gradients[2]:\n",
    "        for i in arr:\n",
    "            points_2.append(i)\n",
    "            \n",
    "    points_3 = list()\n",
    "    for arr in gradients[4]:\n",
    "        for i in arr:\n",
    "            points_3.append(i)\n",
    "\n",
    "    plt.figure(figsize=(18,4))\n",
    "\n",
    "    plt.subplot(1, 3, 1)\n",
    "    plt.hist(points_1)\n",
    "    plt.title('Histograma capa 1')\n",
    "    plt.xlabel('Gradiente')\n",
    "    plt.ylabel('Frecuencia')\n",
    "    plt.xticks(rotation=50)\n",
    "    plt.ticklabel_format(style='sci', axis='x', scilimits=(0,0))\n",
    "\n",
    "    plt.subplot(1, 3, 2)\n",
    "    plt.hist(points_2)\n",
    "    plt.title('Histograma capa 2')\n",
    "    plt.xlabel('Gradiente')\n",
    "    plt.ylabel('Frecuencia')\n",
    "    plt.xticks(rotation=50)\n",
    "    plt.ticklabel_format(style='sci', axis='x', scilimits=(0,0))\n",
    "    \n",
    "    plt.subplot(1, 3, 3)\n",
    "    plt.hist(points_3)\n",
    "    plt.title('Histograma capa 3')\n",
    "    plt.xlabel('Gradiente')\n",
    "    plt.ylabel('Frecuencia')\n",
    "    plt.xticks(rotation=50)\n",
    "    plt.ticklabel_format(style='sci', axis='x', scilimits=(0,0))\n",
    "\n",
    "    plt.show()\n",
    "    \n",
    "print(\"Gradientes pre-entrenamiento\")\n",
    "show_hist_2(evaluated_gradients_B)\n",
    "print(\"Gradientes post-entrenamiento\")\n",
    "show_hist_2(evaluated_gradients_50_B)"
   ]
  },
  {
   "cell_type": "markdown",
   "metadata": {},
   "source": [
    "## c)\n"
   ]
  },
  {
   "cell_type": "code",
   "execution_count": null,
   "metadata": {},
   "outputs": [],
   "source": [
    "model = Sequential()\n",
    "model.add(Dense(256, input_dim=X_train_scaled.shape[1], kernel_initializer='glorot_uniform',activation='sigmoid'))\n",
    "model.add(Dense(256, kernel_initializer='glorot_uniform',activation='sigmoid'))\n",
    "model.add(Dense(256, kernel_initializer='glorot_uniform',activation='sigmoid'))\n",
    "model.add(Dense(256, kernel_initializer='glorot_uniform',activation='sigmoid'))\n",
    "model.add(Dense(256, kernel_initializer='glorot_uniform',activation='sigmoid'))\n",
    "model.add(Dense(1, kernel_initializer='glorot_uniform',activation='sigmoid'))\n",
    "\n",
    "# model.compile(optimizer=SGD(lr=0.01), loss='mean_squared_error')\n",
    "model.compile(optimizer=SGD(lr=0.01), loss='binary_crossentropy', metrics=['acc'])\n",
    "\n",
    "# loss = keras.losses.mean_squared_error(model.output,y_train)\n",
    "loss = keras.losses.binary_crossentropy(model.output,K.variable(np.reshape(y_train, (-1, 1))))\n",
    "\n",
    "listOfVariableTensors = model.trainable_weights \n",
    "gradients = K.gradients(loss, listOfVariableTensors) #We can now calculate the gradients.\n",
    "sess = K.get_session()\n",
    "evaluated_gradients_C = sess.run(gradients,feed_dict={model.input:X_train_scaled})\n",
    "evaluated_gradients_C = [gradient/len(y_train) for gradient in evaluated_gradients_C]\n",
    "model.fit(X_train_scaled, y_train, epochs=50, verbose=0, validation_data=(X_val_scaled, y_val))\n",
    "evaluated_gradients_50_C = sess.run(gradients,feed_dict={model.input:X_train_scaled})\n",
    "evaluated_gradients_50_C = [gradient/len(y_train) for gradient in evaluated_gradients_50_C]\n",
    "\n",
    "print(\"Gradientes pre-entrenamiento\")\n",
    "show_hist_2(evaluated_gradients_C)\n",
    "print(\"Gradientes post-entrenamiento\")\n",
    "show_hist_2(evaluated_gradients_50_C)"
   ]
  },
  {
   "cell_type": "markdown",
   "metadata": {},
   "source": [
    "## d)"
   ]
  },
  {
   "cell_type": "code",
   "execution_count": null,
   "metadata": {
    "scrolled": false
   },
   "outputs": [],
   "source": [
    "model = Sequential()\n",
    "model.add(Dense(256, input_dim=X_train_scaled.shape[1], kernel_initializer='uniform',activation='relu'))\n",
    "model.add(Dense(256, kernel_initializer='uniform',activation='relu'))\n",
    "model.add(Dense(256, kernel_initializer='uniform',activation='relu'))\n",
    "model.add(Dense(256, kernel_initializer='uniform',activation='relu'))\n",
    "model.add(Dense(256, kernel_initializer='uniform',activation='relu'))\n",
    "model.add(Dense(1, kernel_initializer='uniform',activation='relu'))\n",
    "\n",
    "# model.compile(optimizer=SGD(lr=0.01), loss='mean_squared_error')\n",
    "model.compile(optimizer=SGD(lr=0.01), loss='binary_crossentropy', metrics=['acc'])\n",
    "\n",
    "# loss = keras.losses.mean_squared_error(model.output,y_train)\n",
    "loss = keras.losses.binary_crossentropy(model.output,K.variable(np.reshape(y_train, (-1, 1))))\n",
    "\n",
    "listOfVariableTensors = model.trainable_weights \n",
    "gradients = K.gradients(loss, listOfVariableTensors) #We can now calculate the gradients.\n",
    "sess = K.get_session()\n",
    "evaluated_gradients_D_1 = sess.run(gradients,feed_dict={model.input:X_train_scaled})\n",
    "evaluated_gradients_D_1 = [gradient/len(y_train) for gradient in evaluated_gradients_D_1]\n",
    "model.fit(X_train_scaled, y_train, epochs=50, verbose=0, validation_data=(X_val_scaled, y_val))\n",
    "evaluated_gradients_50_D_1 = sess.run(gradients,feed_dict={model.input:X_train_scaled})\n",
    "evaluated_gradients_50_D_1 = [gradient/len(y_train) for gradient in evaluated_gradients_50_D_1]\n",
    "\n",
    "print(\"Gradientes pre-entrenamiento\")\n",
    "show_hist_2(evaluated_gradients_D_1)\n",
    "print(\"Gradientes post-entrenamiento\")\n",
    "show_hist_2(evaluated_gradients_50_D_1)"
   ]
  },
  {
   "cell_type": "code",
   "execution_count": null,
   "metadata": {},
   "outputs": [],
   "source": [
    "model = Sequential()\n",
    "model.add(Dense(256, input_dim=X_train_scaled.shape[1], kernel_initializer='he_uniform',activation='relu'))\n",
    "model.add(Dense(256, kernel_initializer='he_uniform',activation='relu'))\n",
    "model.add(Dense(256, kernel_initializer='he_uniform',activation='relu'))\n",
    "model.add(Dense(256, kernel_initializer='he_uniform',activation='relu'))\n",
    "model.add(Dense(256, kernel_initializer='he_uniform',activation='relu'))\n",
    "model.add(Dense(1, kernel_initializer='he_uniform',activation='relu'))\n",
    "\n",
    "# model.compile(optimizer=SGD(lr=0.01), loss='mean_squared_error')\n",
    "model.compile(optimizer=SGD(lr=0.01), loss='binary_crossentropy', metrics=['acc'])\n",
    "\n",
    "# loss = keras.losses.mean_squared_error(model.output,y_train)\n",
    "loss = keras.losses.binary_crossentropy(model.output,K.variable(np.reshape(y_train, (-1, 1))))\n",
    "\n",
    "listOfVariableTensors = model.trainable_weights \n",
    "gradients = K.gradients(loss, listOfVariableTensors) #We can now calculate the gradients.\n",
    "sess = K.get_session()\n",
    "evaluated_gradients_D_2 = sess.run(gradients,feed_dict={model.input:X_train_scaled})\n",
    "evaluated_gradients_D_2 = [gradient/len(y_train) for gradient in evaluated_gradients_D_2]\n",
    "model.fit(X_train_scaled, y_train, epochs=50, verbose=0, validation_data=(X_val_scaled, y_val))\n",
    "evaluated_gradients_50_D_2 = sess.run(gradients,feed_dict={model.input:X_train_scaled})\n",
    "evaluated_gradients_50_D_2 = [gradient/len(y_train) for gradient in evaluated_gradients_50_D_2]\n",
    "\n",
    "print(\"Gradientes pre-entrenamiento\")\n",
    "show_hist_2(evaluated_gradients_D_2)\n",
    "print(\"Gradientes post-entrenamiento\")\n",
    "show_hist_2(evaluated_gradients_50_D_2)"
   ]
  },
  {
   "cell_type": "markdown",
   "metadata": {},
   "source": [
    "## e)"
   ]
  },
  {
   "cell_type": "code",
   "execution_count": null,
   "metadata": {
    "scrolled": false
   },
   "outputs": [],
   "source": [
    "model = Sequential()\n",
    "model.add(Dense(256, input_dim=X_train_scaled.shape[1], kernel_initializer='he_uniform',activation='softplus'))\n",
    "model.add(Dense(256, kernel_initializer='he_uniform',activation='softplus'))\n",
    "model.add(Dense(256, kernel_initializer='he_uniform',activation='softplus'))\n",
    "model.add(Dense(256, kernel_initializer='he_uniform',activation='softplus'))\n",
    "model.add(Dense(256, kernel_initializer='he_uniform',activation='softplus'))\n",
    "model.add(Dense(1, kernel_initializer='he_uniform',activation='sigmoid'))\n",
    "\n",
    "# model.compile(optimizer=SGD(lr=0.01), loss='mean_squared_error')\n",
    "model.compile(optimizer=SGD(lr=0.01), loss='binary_crossentropy', metrics=['acc'])\n",
    "\n",
    "# loss = keras.losses.mean_squared_error(model.output,y_train)\n",
    "loss = keras.losses.binary_crossentropy(model.output,K.variable(np.reshape(y_train, (-1, 1))))\n",
    "\n",
    "error_1 = model.evaluate(X_val_scaled, y_val)\n",
    "\n",
    "listOfVariableTensors = model.trainable_weights \n",
    "gradients = K.gradients(loss, listOfVariableTensors) #We can now calculate the gradients.\n",
    "sess = K.get_session()\n",
    "evaluated_gradients_E = sess.run(gradients,feed_dict={model.input:X_train_scaled})\n",
    "evaluated_gradients_E = [gradient/len(y_train) for gradient in evaluated_gradients_E]\n",
    "history=model.fit(X_train_scaled, y_train, epochs=50, verbose=0, validation_data=(X_val_scaled, y_val))\n",
    "\n",
    "error_2 = model.evaluate(X_val_scaled, y_val)\n",
    "\n",
    "evaluated_gradients_50_E = sess.run(gradients,feed_dict={model.input:X_train_scaled})\n",
    "evaluated_gradients_50_E = [gradient/len(y_train) for gradient in evaluated_gradients_50_E]\n",
    "\n",
    "print(\"Gradientes pre-entrenamiento\")\n",
    "show_hist_2(evaluated_gradients_E)\n",
    "print(\"Gradientes post-entrenamiento\")\n",
    "show_hist_2(evaluated_gradients_50_E)"
   ]
  },
  {
   "cell_type": "code",
   "execution_count": null,
   "metadata": {
    "scrolled": false
   },
   "outputs": [],
   "source": [
    "print(error_1)\n",
    "print(error_2)\n",
    "\n",
    "history.history"
   ]
  }
 ],
 "metadata": {
  "kernelspec": {
   "display_name": "Python 3",
   "language": "python",
   "name": "python3"
  },
  "language_info": {
   "codemirror_mode": {
    "name": "ipython",
    "version": 3
   },
   "file_extension": ".py",
   "mimetype": "text/x-python",
   "name": "python",
   "nbconvert_exporter": "python",
   "pygments_lexer": "ipython3",
   "version": "3.6.8"
  }
 },
 "nbformat": 4,
 "nbformat_minor": 2
}
