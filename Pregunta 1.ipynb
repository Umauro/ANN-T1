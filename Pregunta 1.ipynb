{
 "cells": [
  {
   "cell_type": "markdown",
   "metadata": {},
   "source": [
    "<img src=\"http://www.exalumnos.usm.cl/wp-content/uploads/2015/06/Isotipo-Negro.gif\" title=\"Title text\" width=\"20%\" height=\"20%\" />\n",
    "\n",
    "\n",
    "<hr style=\"height:2px;border:none\"/>\n",
    "<h1 align='center'> INF-395 Redes Neuronales Artificiales 2019-1</h1>\n",
    "\n",
    "<H3 align='center'> Tarea 1 - Redes Neuronales y *Deep Learning* </H3>\n",
    "<hr style=\"height:2px;border:none\"/>\n",
    "\n",
    "## Integrantes\n",
    "\n",
    "* _**Francisco Olivares - 201473575-8 - fracisco.olivars.14@sansano.usm.cl**_\n",
    "* _**Gabriel Valenzuela - 201473505-7 - gabriel.valenzuel.14@sansano.usm.cl**_\n",
    "* _**Felipe Vega - 201473511-1 - felipe.vega.14@sansano.usm.cl**_\n",
    "\n",
    "\n",
    "\n",
    "<hr style=\"height:2px;border:none\"/>"
   ]
  },
  {
   "cell_type": "code",
   "execution_count": 60,
   "metadata": {},
   "outputs": [
    {
     "data": {
      "text/html": [
       "<style>.container { width:95% !important; }</style>"
      ],
      "text/plain": [
       "<IPython.core.display.HTML object>"
      ]
     },
     "metadata": {},
     "output_type": "display_data"
    }
   ],
   "source": [
    "#Soy tu bloque pa' los imports papi\n",
    "import pandas as pd\n",
    "import numpy as np\n",
    "import matplotlib.pyplot as plt\n",
    "from ipywidgets import interact \n",
    "\n",
    "\n",
    "\n",
    "from IPython.display import IFrame\n",
    "from IPython.core.display import display, HTML\n",
    "display(HTML(\"<style>.container { width:95% !important; }</style>\"))\n",
    "\n",
    "\n",
    "#Cantidad de columnas a mostrar con pandas\n",
    "pd.set_option('display.max_columns',100)"
   ]
  },
  {
   "cell_type": "markdown",
   "metadata": {},
   "source": [
    "<hr style=\"height:2px;border:none\"/>"
   ]
  },
  {
   "cell_type": "markdown",
   "metadata": {},
   "source": [
    "# Red neuronal Feed Forward para detectar Exoplanetas"
   ]
  },
  {
   "cell_type": "markdown",
   "metadata": {},
   "source": [
    "Para comenzar, se cargarán los datos necesarios, los cuales tienen features extraidas a partir de las curvas de luz (intensidad de la luz en el tiempo) y metadatos de la observación [continuar con el relleno].\n",
    "\n",
    "Desde el archivo _**koi sets unb**_ se obtiene el conjunto al que pertenece cada dato, los cuales pueden ser Test, Train y Unlabeled. Desde _**koi light curves**_ se obtienen las features extraidas a partir de las curvas de luz y los metadatos de la observación. Finalmente, desde _**koi labels**_ se obtendrán las etiquetas de cada exoplaneta, las cuales son _**CONFIRMED**_ o _**FALSE POSITIVE**_."
   ]
  },
  {
   "cell_type": "code",
   "execution_count": 61,
   "metadata": {},
   "outputs": [],
   "source": [
    "df_sets = pd.read_csv(\"data/koi_sets_unb.csv\")\n",
    "\n",
    "mask_train = (df_sets[\"Set\"] == \"Train\").values\n",
    "mask_test = (df_sets[\"Set\"] == \"Test\").values\n",
    "\n",
    "df_labels = pd.read_csv(\"data/koi_labels.csv\")\n",
    "df_X = pd.read_csv(\"data/koi_light_curves_X.csv\")\n",
    "df_labels_train = df_labels[mask_train]\n",
    "df_labels_test = df_labels[mask_test]\n",
    "df_X_train = df_X[mask_train]\n",
    "df_X_test = df_X[mask_test]"
   ]
  },
  {
   "cell_type": "markdown",
   "metadata": {},
   "source": [
    "Con los datos ya cargados, se generan las matrices para los conjuntos de entrenamiento y pruebas, como también se generan una etiqueta binaria para cada dato. Se realizar un boxplot para cada columna con datos numéricos, para observar la existencia de outliers.\n"
   ]
  },
  {
   "cell_type": "code",
   "execution_count": 62,
   "metadata": {
    "scrolled": true
   },
   "outputs": [],
   "source": [
    "y_train = ((df_labels_train[\"NExScI Disposition\"]==\"CONFIRMED\")*1).values\n",
    "y_test = ((df_labels_test[\"NExScI Disposition\"]==\"CONFIRMED\")*1).values\n",
    "df_X_train = df_X_train.reset_index(drop=True)\n",
    "df_X_test = df_X_test.reset_index(drop=True)"
   ]
  },
  {
   "cell_type": "code",
   "execution_count": 63,
   "metadata": {},
   "outputs": [
    {
     "data": {
      "application/vnd.jupyter.widget-view+json": {
       "model_id": "0d32322e01e8442ca8235df5f436f636",
       "version_major": 2,
       "version_minor": 0
      },
      "text/plain": [
       "interactive(children=(Dropdown(description='column_name', index=2, options=('Minimum', 'Maximum', 'Mean', 'Std…"
      ]
     },
     "metadata": {},
     "output_type": "display_data"
    },
    {
     "data": {
      "text/plain": [
       "<function __main__.boxplotPlotTrain(column_name='Mean')>"
      ]
     },
     "execution_count": 63,
     "metadata": {},
     "output_type": "execute_result"
    }
   ],
   "source": [
    "def boxplotPlotTrain(column_name = 'Mean'):\n",
    "    plt.figure()\n",
    "    plt.title(\"Boxplot of \"+column_name)\n",
    "    plt.boxplot(df_X_train[column_name])\n",
    "    plt.show()\n",
    "    \n",
    "numeric_columns = []\n",
    "for i in df_X_train.columns:\n",
    "    if np.issubdtype(df_X_train[i].dtype,np.number):\n",
    "        numeric_columns.append(i)  \n",
    "        \n",
    "interact(boxplotPlotTrain, column_name=numeric_columns)        "
   ]
  },
  {
   "cell_type": "markdown",
   "metadata": {},
   "source": [
    "Se observa la presencia de outliers en la gran mayoría de los datos numéricos. Dado lo anterior, se toma la decisión que si existen datos nulos se reemplazarán con la mediana, dado que es un estadístico robusto frente outliers. "
   ]
  },
  {
   "cell_type": "code",
   "execution_count": 64,
   "metadata": {},
   "outputs": [],
   "source": [
    "df_X_train.fillna(df_X_train.median(), inplace=True)\n",
    "df_X_test.fillna(df_X_test.median(), inplace=True)\n",
    "X_train = df_X_train.values[:,1:]\n",
    "X_test = df_X_test.values[:,1:]"
   ]
  },
  {
   "cell_type": "markdown",
   "metadata": {},
   "source": [
    "> _**a) Explore los datos trabajados, ya sea con estadísticos simples o con gráficos como histogramas y/o boxplots. Comente sobre el problema enfrentado, es decir, la tarea de transformar un vector  𝑋  en un valor categórico (0 o 1).**_"
   ]
  },
  {
   "cell_type": "markdown",
   "metadata": {},
   "source": [
    "El dataset cuenta con 41 atributos, cuyos nombres se presentan a continuación, "
   ]
  },
  {
   "cell_type": "code",
   "execution_count": 65,
   "metadata": {},
   "outputs": [
    {
     "data": {
      "text/plain": [
       "Index(['Minimum', 'Maximum', 'Mean', 'Std', 'IQR', 'Skew', 'Kurtosis', 'Q1',\n",
       "       'Q2', 'Slope', 'Amplitude', 'MAD', 'Residual Bright Faint Ratio',\n",
       "       'Median', 'Period', 'Time of Transit Epoch', 'First Transit Time (BJD)',\n",
       "       'Impact Parameter', 'Duration', 'Transit Depth', 'r/R',\n",
       "       'Fitted Stellar Density', 'Planet Radius', 'Semi-major Axis',\n",
       "       'Inclination', 'Teq', 'Insolation Flux', 'a/R', 'Limb Darkening Coeff1',\n",
       "       'Limb Darkening Coeff2', 'Limb Darkening Coeff3',\n",
       "       'Limb Darkening Coeff4', 'Teff', 'log(g)', 'Metallicity',\n",
       "       'Stellar Radius', 'Stellar Mass', 'Max single event sigma',\n",
       "       'Max Multievent sigma', 'Transit Model SNR', 'KOI count'],\n",
       "      dtype='object')"
      ]
     },
     "execution_count": 65,
     "metadata": {},
     "output_type": "execute_result"
    }
   ],
   "source": [
    "columns_names = df_X_train.columns[1:]\n",
    "columns_names"
   ]
  },
  {
   "cell_type": "code",
   "execution_count": 66,
   "metadata": {},
   "outputs": [
    {
     "name": "stdout",
     "output_type": "stream",
     "text": [
      "(4692, 41)\n",
      "(1565, 41)\n"
     ]
    }
   ],
   "source": [
    "print(X_train.shape)\n",
    "print(X_test.shape)\n"
   ]
  },
  {
   "cell_type": "markdown",
   "metadata": {},
   "source": [
    "El conjunto de entrenamiento cuenta con 4692 registros, mientras que el conjunto de pruebas cuenta con 1565 registros."
   ]
  },
  {
   "cell_type": "code",
   "execution_count": 67,
   "metadata": {},
   "outputs": [
    {
     "data": {
      "image/png": "[encoded data removed]",
      "text/plain": [
       "<Figure size 720x504 with 1 Axes>"
      ]
     },
     "metadata": {
      "needs_background": "light"
     },
     "output_type": "display_data"
    }
   ],
   "source": [
    "plt.figure(figsize=(10,7))\n",
    "plt.title(\"Number of examples on each label in Train Set\")\n",
    "plt.bar(['0','1'],[len(y_train)-y_train.sum(),y_train.sum()])\n",
    "plt.xlabel(\"Labels\")\n",
    "plt.ylabel(\"Number of examples\")\n",
    "plt.xticks([0,1],['FALSE POSITIVE','CONFIRMED'])\n",
    "plt.show()"
   ]
  },
  {
   "cell_type": "markdown",
   "metadata": {},
   "source": [
    "Se observa que las etiquetas del conjunto de entrenamiento se encuentran desbalanceadas, por que se espera que la red tienda a clasificar cada registro como FALSE POSITIVE, pues eso minimizaría su probabilidad de equivocarse. Por lo anterior, al momento de evaluar el desempeño de la red se debe considerar además otra métrica distinta de la _accuracy_, como el _F1 Score_."
   ]
  },
  {
   "cell_type": "markdown",
   "metadata": {},
   "source": [
    "A continuación se presentan distintos estadísticos para cada uno de los atributos"
   ]
  },
  {
   "cell_type": "code",
   "execution_count": 68,
   "metadata": {},
   "outputs": [
    {
     "data": {
      "text/html": [
       "<div>\n",
       "<style scoped>\n",
       "    .dataframe tbody tr th:only-of-type {\n",
       "        vertical-align: middle;\n",
       "    }\n",
       "\n",
       "    .dataframe tbody tr th {\n",
       "        vertical-align: top;\n",
       "    }\n",
       "\n",
       "    .dataframe thead th {\n",
       "        text-align: right;\n",
       "    }\n",
       "</style>\n",
       "<table border=\"1\" class=\"dataframe\">\n",
       "  <thead>\n",
       "    <tr style=\"text-align: right;\">\n",
       "      <th></th>\n",
       "      <th>Minimum</th>\n",
       "      <th>Maximum</th>\n",
       "      <th>Mean</th>\n",
       "      <th>Std</th>\n",
       "      <th>IQR</th>\n",
       "      <th>Skew</th>\n",
       "      <th>Kurtosis</th>\n",
       "      <th>Q1</th>\n",
       "      <th>Q2</th>\n",
       "      <th>Slope</th>\n",
       "      <th>Amplitude</th>\n",
       "      <th>MAD</th>\n",
       "      <th>Residual Bright Faint Ratio</th>\n",
       "      <th>Median</th>\n",
       "      <th>Period</th>\n",
       "      <th>Time of Transit Epoch</th>\n",
       "      <th>First Transit Time (BJD)</th>\n",
       "      <th>Impact Parameter</th>\n",
       "      <th>Duration</th>\n",
       "      <th>Transit Depth</th>\n",
       "      <th>r/R</th>\n",
       "      <th>Fitted Stellar Density</th>\n",
       "      <th>Planet Radius</th>\n",
       "      <th>Semi-major Axis</th>\n",
       "      <th>Inclination</th>\n",
       "      <th>Teq</th>\n",
       "      <th>Insolation Flux</th>\n",
       "      <th>a/R</th>\n",
       "      <th>Limb Darkening Coeff1</th>\n",
       "      <th>Limb Darkening Coeff2</th>\n",
       "      <th>Limb Darkening Coeff3</th>\n",
       "      <th>Limb Darkening Coeff4</th>\n",
       "      <th>Teff</th>\n",
       "      <th>log(g)</th>\n",
       "      <th>Metallicity</th>\n",
       "      <th>Stellar Radius</th>\n",
       "      <th>Stellar Mass</th>\n",
       "      <th>Max single event sigma</th>\n",
       "      <th>Max Multievent sigma</th>\n",
       "      <th>Transit Model SNR</th>\n",
       "      <th>KOI count</th>\n",
       "    </tr>\n",
       "  </thead>\n",
       "  <tbody>\n",
       "    <tr>\n",
       "      <th>count</th>\n",
       "      <td>4692.000000</td>\n",
       "      <td>4692.000000</td>\n",
       "      <td>4692.000000</td>\n",
       "      <td>4692.000000</td>\n",
       "      <td>4692.000000</td>\n",
       "      <td>4692.000000</td>\n",
       "      <td>4692.000000</td>\n",
       "      <td>4692.000000</td>\n",
       "      <td>4692.000000</td>\n",
       "      <td>4.692000e+03</td>\n",
       "      <td>4692.000000</td>\n",
       "      <td>4692.000000</td>\n",
       "      <td>4692.000000</td>\n",
       "      <td>4692.000000</td>\n",
       "      <td>4692.000000</td>\n",
       "      <td>4692.000000</td>\n",
       "      <td>4.692000e+03</td>\n",
       "      <td>4692.000000</td>\n",
       "      <td>4692.000000</td>\n",
       "      <td>4692.000000</td>\n",
       "      <td>4692.000000</td>\n",
       "      <td>4692.000000</td>\n",
       "      <td>4692.000000</td>\n",
       "      <td>4692.000000</td>\n",
       "      <td>4692.000000</td>\n",
       "      <td>4692.000000</td>\n",
       "      <td>4.692000e+03</td>\n",
       "      <td>4692.000000</td>\n",
       "      <td>4692.000000</td>\n",
       "      <td>4692.000000</td>\n",
       "      <td>4692.0</td>\n",
       "      <td>4692.0</td>\n",
       "      <td>4692.000000</td>\n",
       "      <td>4692.000000</td>\n",
       "      <td>4692.000000</td>\n",
       "      <td>4692.000000</td>\n",
       "      <td>4692.000000</td>\n",
       "      <td>4692.000000</td>\n",
       "      <td>4692.000000</td>\n",
       "      <td>4692.000000</td>\n",
       "      <td>4692.000000</td>\n",
       "    </tr>\n",
       "    <tr>\n",
       "      <th>mean</th>\n",
       "      <td>-66.492676</td>\n",
       "      <td>23.987692</td>\n",
       "      <td>-0.142418</td>\n",
       "      <td>4.136842</td>\n",
       "      <td>0.333109</td>\n",
       "      <td>-9.386612</td>\n",
       "      <td>211.410321</td>\n",
       "      <td>-0.105753</td>\n",
       "      <td>0.017978</td>\n",
       "      <td>1.483853e-07</td>\n",
       "      <td>45.240184</td>\n",
       "      <td>0.147191</td>\n",
       "      <td>103.043248</td>\n",
       "      <td>0.017978</td>\n",
       "      <td>39.181997</td>\n",
       "      <td>159.105302</td>\n",
       "      <td>2.454992e+06</td>\n",
       "      <td>0.664878</td>\n",
       "      <td>5.786126</td>\n",
       "      <td>40197.917882</td>\n",
       "      <td>0.211793</td>\n",
       "      <td>3.246083</td>\n",
       "      <td>40.520243</td>\n",
       "      <td>0.162023</td>\n",
       "      <td>80.784582</td>\n",
       "      <td>1219.953751</td>\n",
       "      <td>1.104767e+04</td>\n",
       "      <td>37.746210</td>\n",
       "      <td>0.404140</td>\n",
       "      <td>0.255844</td>\n",
       "      <td>0.0</td>\n",
       "      <td>0.0</td>\n",
       "      <td>5744.338875</td>\n",
       "      <td>4.296402</td>\n",
       "      <td>-0.132632</td>\n",
       "      <td>1.900540</td>\n",
       "      <td>1.036185</td>\n",
       "      <td>287.105781</td>\n",
       "      <td>1676.133027</td>\n",
       "      <td>433.699680</td>\n",
       "      <td>1.460358</td>\n",
       "    </tr>\n",
       "    <tr>\n",
       "      <th>std</th>\n",
       "      <td>274.391875</td>\n",
       "      <td>112.019945</td>\n",
       "      <td>0.501607</td>\n",
       "      <td>18.127797</td>\n",
       "      <td>2.060592</td>\n",
       "      <td>9.112166</td>\n",
       "      <td>539.593897</td>\n",
       "      <td>0.450513</td>\n",
       "      <td>0.366224</td>\n",
       "      <td>7.449019e-06</td>\n",
       "      <td>190.309298</td>\n",
       "      <td>0.862019</td>\n",
       "      <td>153.443064</td>\n",
       "      <td>0.366224</td>\n",
       "      <td>94.453978</td>\n",
       "      <td>61.608967</td>\n",
       "      <td>6.160896e+01</td>\n",
       "      <td>0.934906</td>\n",
       "      <td>7.185999</td>\n",
       "      <td>105008.944336</td>\n",
       "      <td>0.856294</td>\n",
       "      <td>20.059514</td>\n",
       "      <td>405.813248</td>\n",
       "      <td>0.252837</td>\n",
       "      <td>16.700814</td>\n",
       "      <td>950.878177</td>\n",
       "      <td>1.931656e+05</td>\n",
       "      <td>88.758042</td>\n",
       "      <td>0.108433</td>\n",
       "      <td>0.065967</td>\n",
       "      <td>0.0</td>\n",
       "      <td>0.0</td>\n",
       "      <td>860.487363</td>\n",
       "      <td>0.457178</td>\n",
       "      <td>0.283833</td>\n",
       "      <td>7.311725</td>\n",
       "      <td>0.372291</td>\n",
       "      <td>1001.727968</td>\n",
       "      <td>5421.050203</td>\n",
       "      <td>1052.012721</td>\n",
       "      <td>0.950673</td>\n",
       "    </tr>\n",
       "    <tr>\n",
       "      <th>min</th>\n",
       "      <td>-8446.637695</td>\n",
       "      <td>0.000000</td>\n",
       "      <td>-13.658888</td>\n",
       "      <td>0.000000</td>\n",
       "      <td>0.000000</td>\n",
       "      <td>-117.225060</td>\n",
       "      <td>-3.000000</td>\n",
       "      <td>-11.479470</td>\n",
       "      <td>-1.961110</td>\n",
       "      <td>-1.280449e-04</td>\n",
       "      <td>0.000000</td>\n",
       "      <td>0.000000</td>\n",
       "      <td>1.032485</td>\n",
       "      <td>-1.961110</td>\n",
       "      <td>0.299698</td>\n",
       "      <td>120.565925</td>\n",
       "      <td>2.454954e+06</td>\n",
       "      <td>0.000000</td>\n",
       "      <td>0.296100</td>\n",
       "      <td>0.800000</td>\n",
       "      <td>0.001000</td>\n",
       "      <td>0.000040</td>\n",
       "      <td>0.080000</td>\n",
       "      <td>0.006000</td>\n",
       "      <td>5.260000</td>\n",
       "      <td>92.000000</td>\n",
       "      <td>2.000000e-02</td>\n",
       "      <td>1.006000</td>\n",
       "      <td>0.128000</td>\n",
       "      <td>-0.121000</td>\n",
       "      <td>0.0</td>\n",
       "      <td>0.0</td>\n",
       "      <td>2703.000000</td>\n",
       "      <td>0.047000</td>\n",
       "      <td>-1.980000</td>\n",
       "      <td>0.118000</td>\n",
       "      <td>0.000000</td>\n",
       "      <td>2.539000</td>\n",
       "      <td>7.105000</td>\n",
       "      <td>0.000000</td>\n",
       "      <td>1.000000</td>\n",
       "    </tr>\n",
       "    <tr>\n",
       "      <th>25%</th>\n",
       "      <td>-7.086795</td>\n",
       "      <td>0.167940</td>\n",
       "      <td>-0.028155</td>\n",
       "      <td>0.051691</td>\n",
       "      <td>0.002100</td>\n",
       "      <td>-11.797075</td>\n",
       "      <td>17.711536</td>\n",
       "      <td>-0.014000</td>\n",
       "      <td>-0.001772</td>\n",
       "      <td>-3.708501e-08</td>\n",
       "      <td>0.418177</td>\n",
       "      <td>0.000670</td>\n",
       "      <td>22.901289</td>\n",
       "      <td>-0.001772</td>\n",
       "      <td>2.068399</td>\n",
       "      <td>132.467184</td>\n",
       "      <td>2.454965e+06</td>\n",
       "      <td>0.248000</td>\n",
       "      <td>2.599597</td>\n",
       "      <td>206.600000</td>\n",
       "      <td>0.014000</td>\n",
       "      <td>0.177645</td>\n",
       "      <td>1.600000</td>\n",
       "      <td>0.032000</td>\n",
       "      <td>81.320000</td>\n",
       "      <td>614.000000</td>\n",
       "      <td>3.351750e+01</td>\n",
       "      <td>4.090000</td>\n",
       "      <td>0.324000</td>\n",
       "      <td>0.229000</td>\n",
       "      <td>0.0</td>\n",
       "      <td>0.0</td>\n",
       "      <td>5332.000000</td>\n",
       "      <td>4.192750</td>\n",
       "      <td>-0.280000</td>\n",
       "      <td>0.832750</td>\n",
       "      <td>0.849000</td>\n",
       "      <td>4.317000</td>\n",
       "      <td>13.582000</td>\n",
       "      <td>18.300000</td>\n",
       "      <td>1.000000</td>\n",
       "    </tr>\n",
       "    <tr>\n",
       "      <th>50%</th>\n",
       "      <td>-1.620665</td>\n",
       "      <td>0.439595</td>\n",
       "      <td>-0.008431</td>\n",
       "      <td>0.105266</td>\n",
       "      <td>0.009035</td>\n",
       "      <td>-6.907724</td>\n",
       "      <td>58.183594</td>\n",
       "      <td>-0.003770</td>\n",
       "      <td>0.000000</td>\n",
       "      <td>0.000000e+00</td>\n",
       "      <td>1.056900</td>\n",
       "      <td>0.004060</td>\n",
       "      <td>54.585001</td>\n",
       "      <td>0.000000</td>\n",
       "      <td>7.096163</td>\n",
       "      <td>135.694975</td>\n",
       "      <td>2.454969e+06</td>\n",
       "      <td>0.618000</td>\n",
       "      <td>3.984500</td>\n",
       "      <td>622.200000</td>\n",
       "      <td>0.027000</td>\n",
       "      <td>0.719020</td>\n",
       "      <td>2.970000</td>\n",
       "      <td>0.072000</td>\n",
       "      <td>87.820000</td>\n",
       "      <td>981.000000</td>\n",
       "      <td>2.208000e+02</td>\n",
       "      <td>11.720000</td>\n",
       "      <td>0.386000</td>\n",
       "      <td>0.273000</td>\n",
       "      <td>0.0</td>\n",
       "      <td>0.0</td>\n",
       "      <td>5780.000000</td>\n",
       "      <td>4.432000</td>\n",
       "      <td>-0.100000</td>\n",
       "      <td>1.001000</td>\n",
       "      <td>0.974000</td>\n",
       "      <td>6.592500</td>\n",
       "      <td>27.682000</td>\n",
       "      <td>39.100000</td>\n",
       "      <td>1.000000</td>\n",
       "    </tr>\n",
       "    <tr>\n",
       "      <th>75%</th>\n",
       "      <td>-0.643782</td>\n",
       "      <td>2.028700</td>\n",
       "      <td>-0.002930</td>\n",
       "      <td>0.411105</td>\n",
       "      <td>0.028001</td>\n",
       "      <td>-3.781710</td>\n",
       "      <td>170.416851</td>\n",
       "      <td>-0.000190</td>\n",
       "      <td>0.000000</td>\n",
       "      <td>4.254584e-08</td>\n",
       "      <td>4.523286</td>\n",
       "      <td>0.011992</td>\n",
       "      <td>118.101057</td>\n",
       "      <td>0.000000</td>\n",
       "      <td>23.561688</td>\n",
       "      <td>162.886710</td>\n",
       "      <td>2.454996e+06</td>\n",
       "      <td>0.922250</td>\n",
       "      <td>6.240750</td>\n",
       "      <td>6538.950000</td>\n",
       "      <td>0.261000</td>\n",
       "      <td>2.204478</td>\n",
       "      <td>33.412500</td>\n",
       "      <td>0.159000</td>\n",
       "      <td>89.520000</td>\n",
       "      <td>1558.000000</td>\n",
       "      <td>1.420352e+03</td>\n",
       "      <td>31.092500</td>\n",
       "      <td>0.460000</td>\n",
       "      <td>0.302000</td>\n",
       "      <td>0.0</td>\n",
       "      <td>0.0</td>\n",
       "      <td>6137.000000</td>\n",
       "      <td>4.539000</td>\n",
       "      <td>0.070000</td>\n",
       "      <td>1.392000</td>\n",
       "      <td>1.107000</td>\n",
       "      <td>52.505750</td>\n",
       "      <td>272.439000</td>\n",
       "      <td>201.150000</td>\n",
       "      <td>2.000000</td>\n",
       "    </tr>\n",
       "    <tr>\n",
       "      <th>max</th>\n",
       "      <td>0.000000</td>\n",
       "      <td>3780.657715</td>\n",
       "      <td>0.000000</td>\n",
       "      <td>686.443909</td>\n",
       "      <td>76.330341</td>\n",
       "      <td>16.964659</td>\n",
       "      <td>16951.279152</td>\n",
       "      <td>5.092345</td>\n",
       "      <td>15.002840</td>\n",
       "      <td>1.998463e-04</td>\n",
       "      <td>5550.700195</td>\n",
       "      <td>28.998531</td>\n",
       "      <td>2709.687200</td>\n",
       "      <td>15.002840</td>\n",
       "      <td>1071.232624</td>\n",
       "      <td>1472.522306</td>\n",
       "      <td>2.456306e+06</td>\n",
       "      <td>25.224000</td>\n",
       "      <td>138.540000</td>\n",
       "      <td>921671.000000</td>\n",
       "      <td>24.663000</td>\n",
       "      <td>839.902280</td>\n",
       "      <td>26042.900000</td>\n",
       "      <td>2.152000</td>\n",
       "      <td>90.000000</td>\n",
       "      <td>14667.000000</td>\n",
       "      <td>1.094755e+07</td>\n",
       "      <td>1603.000000</td>\n",
       "      <td>0.944000</td>\n",
       "      <td>0.464000</td>\n",
       "      <td>0.0</td>\n",
       "      <td>0.0</td>\n",
       "      <td>15896.000000</td>\n",
       "      <td>5.274000</td>\n",
       "      <td>0.560000</td>\n",
       "      <td>229.908000</td>\n",
       "      <td>3.735000</td>\n",
       "      <td>22982.162000</td>\n",
       "      <td>120049.680000</td>\n",
       "      <td>9054.700000</td>\n",
       "      <td>7.000000</td>\n",
       "    </tr>\n",
       "  </tbody>\n",
       "</table>\n",
       "</div>"
      ],
      "text/plain": [
       "           Minimum      Maximum         Mean          Std          IQR  \\\n",
       "count  4692.000000  4692.000000  4692.000000  4692.000000  4692.000000   \n",
       "mean    -66.492676    23.987692    -0.142418     4.136842     0.333109   \n",
       "std     274.391875   112.019945     0.501607    18.127797     2.060592   \n",
       "min   -8446.637695     0.000000   -13.658888     0.000000     0.000000   \n",
       "25%      -7.086795     0.167940    -0.028155     0.051691     0.002100   \n",
       "50%      -1.620665     0.439595    -0.008431     0.105266     0.009035   \n",
       "75%      -0.643782     2.028700    -0.002930     0.411105     0.028001   \n",
       "max       0.000000  3780.657715     0.000000   686.443909    76.330341   \n",
       "\n",
       "              Skew      Kurtosis           Q1           Q2         Slope  \\\n",
       "count  4692.000000   4692.000000  4692.000000  4692.000000  4.692000e+03   \n",
       "mean     -9.386612    211.410321    -0.105753     0.017978  1.483853e-07   \n",
       "std       9.112166    539.593897     0.450513     0.366224  7.449019e-06   \n",
       "min    -117.225060     -3.000000   -11.479470    -1.961110 -1.280449e-04   \n",
       "25%     -11.797075     17.711536    -0.014000    -0.001772 -3.708501e-08   \n",
       "50%      -6.907724     58.183594    -0.003770     0.000000  0.000000e+00   \n",
       "75%      -3.781710    170.416851    -0.000190     0.000000  4.254584e-08   \n",
       "max      16.964659  16951.279152     5.092345    15.002840  1.998463e-04   \n",
       "\n",
       "         Amplitude          MAD  Residual Bright Faint Ratio       Median  \\\n",
       "count  4692.000000  4692.000000                  4692.000000  4692.000000   \n",
       "mean     45.240184     0.147191                   103.043248     0.017978   \n",
       "std     190.309298     0.862019                   153.443064     0.366224   \n",
       "min       0.000000     0.000000                     1.032485    -1.961110   \n",
       "25%       0.418177     0.000670                    22.901289    -0.001772   \n",
       "50%       1.056900     0.004060                    54.585001     0.000000   \n",
       "75%       4.523286     0.011992                   118.101057     0.000000   \n",
       "max    5550.700195    28.998531                  2709.687200    15.002840   \n",
       "\n",
       "            Period  Time of Transit Epoch  First Transit Time (BJD)  \\\n",
       "count  4692.000000            4692.000000              4.692000e+03   \n",
       "mean     39.181997             159.105302              2.454992e+06   \n",
       "std      94.453978              61.608967              6.160896e+01   \n",
       "min       0.299698             120.565925              2.454954e+06   \n",
       "25%       2.068399             132.467184              2.454965e+06   \n",
       "50%       7.096163             135.694975              2.454969e+06   \n",
       "75%      23.561688             162.886710              2.454996e+06   \n",
       "max    1071.232624            1472.522306              2.456306e+06   \n",
       "\n",
       "       Impact Parameter     Duration  Transit Depth          r/R  \\\n",
       "count       4692.000000  4692.000000    4692.000000  4692.000000   \n",
       "mean           0.664878     5.786126   40197.917882     0.211793   \n",
       "std            0.934906     7.185999  105008.944336     0.856294   \n",
       "min            0.000000     0.296100       0.800000     0.001000   \n",
       "25%            0.248000     2.599597     206.600000     0.014000   \n",
       "50%            0.618000     3.984500     622.200000     0.027000   \n",
       "75%            0.922250     6.240750    6538.950000     0.261000   \n",
       "max           25.224000   138.540000  921671.000000    24.663000   \n",
       "\n",
       "       Fitted Stellar Density  Planet Radius  Semi-major Axis  Inclination  \\\n",
       "count             4692.000000    4692.000000      4692.000000  4692.000000   \n",
       "mean                 3.246083      40.520243         0.162023    80.784582   \n",
       "std                 20.059514     405.813248         0.252837    16.700814   \n",
       "min                  0.000040       0.080000         0.006000     5.260000   \n",
       "25%                  0.177645       1.600000         0.032000    81.320000   \n",
       "50%                  0.719020       2.970000         0.072000    87.820000   \n",
       "75%                  2.204478      33.412500         0.159000    89.520000   \n",
       "max                839.902280   26042.900000         2.152000    90.000000   \n",
       "\n",
       "                Teq  Insolation Flux          a/R  Limb Darkening Coeff1  \\\n",
       "count   4692.000000     4.692000e+03  4692.000000            4692.000000   \n",
       "mean    1219.953751     1.104767e+04    37.746210               0.404140   \n",
       "std      950.878177     1.931656e+05    88.758042               0.108433   \n",
       "min       92.000000     2.000000e-02     1.006000               0.128000   \n",
       "25%      614.000000     3.351750e+01     4.090000               0.324000   \n",
       "50%      981.000000     2.208000e+02    11.720000               0.386000   \n",
       "75%     1558.000000     1.420352e+03    31.092500               0.460000   \n",
       "max    14667.000000     1.094755e+07  1603.000000               0.944000   \n",
       "\n",
       "       Limb Darkening Coeff2  Limb Darkening Coeff3  Limb Darkening Coeff4  \\\n",
       "count            4692.000000                 4692.0                 4692.0   \n",
       "mean                0.255844                    0.0                    0.0   \n",
       "std                 0.065967                    0.0                    0.0   \n",
       "min                -0.121000                    0.0                    0.0   \n",
       "25%                 0.229000                    0.0                    0.0   \n",
       "50%                 0.273000                    0.0                    0.0   \n",
       "75%                 0.302000                    0.0                    0.0   \n",
       "max                 0.464000                    0.0                    0.0   \n",
       "\n",
       "               Teff       log(g)  Metallicity  Stellar Radius  Stellar Mass  \\\n",
       "count   4692.000000  4692.000000  4692.000000     4692.000000   4692.000000   \n",
       "mean    5744.338875     4.296402    -0.132632        1.900540      1.036185   \n",
       "std      860.487363     0.457178     0.283833        7.311725      0.372291   \n",
       "min     2703.000000     0.047000    -1.980000        0.118000      0.000000   \n",
       "25%     5332.000000     4.192750    -0.280000        0.832750      0.849000   \n",
       "50%     5780.000000     4.432000    -0.100000        1.001000      0.974000   \n",
       "75%     6137.000000     4.539000     0.070000        1.392000      1.107000   \n",
       "max    15896.000000     5.274000     0.560000      229.908000      3.735000   \n",
       "\n",
       "       Max single event sigma  Max Multievent sigma  Transit Model SNR  \\\n",
       "count             4692.000000           4692.000000        4692.000000   \n",
       "mean               287.105781           1676.133027         433.699680   \n",
       "std               1001.727968           5421.050203        1052.012721   \n",
       "min                  2.539000              7.105000           0.000000   \n",
       "25%                  4.317000             13.582000          18.300000   \n",
       "50%                  6.592500             27.682000          39.100000   \n",
       "75%                 52.505750            272.439000         201.150000   \n",
       "max              22982.162000         120049.680000        9054.700000   \n",
       "\n",
       "         KOI count  \n",
       "count  4692.000000  \n",
       "mean      1.460358  \n",
       "std       0.950673  \n",
       "min       1.000000  \n",
       "25%       1.000000  \n",
       "50%       1.000000  \n",
       "75%       2.000000  \n",
       "max       7.000000  "
      ]
     },
     "execution_count": 68,
     "metadata": {},
     "output_type": "execute_result"
    }
   ],
   "source": [
    "df_X_train.describe()"
   ]
  },
  {
   "cell_type": "markdown",
   "metadata": {},
   "source": [
    "Se observan grandes diferencias entre el mínimo y el segundo cuartil, como también entre el máximo y el tercer cuartil, lo que concuerda con lo mostrado por los boxplots anteriores. También se ven las diferencias entre la media y la mediana, lo que refuerza la decisión de usar un estadístico robusto frente a outliers."
   ]
  },
  {
   "cell_type": "markdown",
   "metadata": {},
   "source": [
    "Se genera un histograma y un boxplot para cada una de las columnas en ambos dataset."
   ]
  },
  {
   "cell_type": "code",
   "execution_count": 69,
   "metadata": {},
   "outputs": [],
   "source": [
    "xtrainTranspose = X_train.T\n",
    "xtestTranspose = X_test.T"
   ]
  },
  {
   "cell_type": "code",
   "execution_count": 70,
   "metadata": {},
   "outputs": [],
   "source": [
    "def histAndBoxplot(column_name='Minimum', dataset='Train'):\n",
    "    if(dataset=='Train'):\n",
    "        df = df_X_train\n",
    "    else:\n",
    "        df = df_X_test\n",
    "    plt.figure(figsize=(15,7))    \n",
    "    plt.subplot(121)\n",
    "    plt.title(\"Histogram of \"+ column_name)\n",
    "    plt.hist(df[column_name])\n",
    "    plt.subplot(122)\n",
    "    plt.title(\"Boxplot of \" + column_name)\n",
    "    plt.boxplot(df[column_name])\n",
    "    plt.show()\n",
    "    "
   ]
  },
  {
   "cell_type": "code",
   "execution_count": 71,
   "metadata": {},
   "outputs": [
    {
     "data": {
      "application/vnd.jupyter.widget-view+json": {
       "model_id": "02a2d394abdd491b9e41a6229e2f0f43",
       "version_major": 2,
       "version_minor": 0
      },
      "text/plain": [
       "interactive(children=(Dropdown(description='column_name', options=('Minimum', 'Maximum', 'Mean', 'Std', 'IQR',…"
      ]
     },
     "metadata": {},
     "output_type": "display_data"
    },
    {
     "data": {
      "text/plain": [
       "<function __main__.histAndBoxplot(column_name='Minimum', dataset='Train')>"
      ]
     },
     "execution_count": 71,
     "metadata": {},
     "output_type": "execute_result"
    }
   ],
   "source": [
    "interact(histAndBoxplot,column_name = columns_names,dataset=['Train','Test'])"
   ]
  },
  {
   "cell_type": "markdown",
   "metadata": {},
   "source": [
    "Se observa una gran cantidad de outliers en casi todos los atributos. Una posible decisión sería eliminar algunos de ellos, pero como no se tienen conocimientos astronómicos sobre Exoplanetas se prefiere mantenerlos en el dataset, pues podrían ser elementos específicos de cierto tipo de objetos astronómicos."
   ]
  }
 ],
 "metadata": {
  "kernelspec": {
   "display_name": "Python 3",
   "language": "python",
   "name": "python3"
  },
  "language_info": {
   "codemirror_mode": {
    "name": "ipython",
    "version": 3
   },
   "file_extension": ".py",
   "mimetype": "text/x-python",
   "name": "python",
   "nbconvert_exporter": "python",
   "pygments_lexer": "ipython3",
   "version": "3.6.0"
  }
 },
 "nbformat": 4,
 "nbformat_minor": 2
}
