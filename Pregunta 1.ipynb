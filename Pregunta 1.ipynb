{
 "cells": [
  {
   "cell_type": "markdown",
   "metadata": {},
   "source": [
    "<img src=\"http://www.exalumnos.usm.cl/wp-content/uploads/2015/06/Isotipo-Negro.gif\" title=\"Title text\" width=\"20%\" height=\"20%\" />\n",
    "\n",
    "\n",
    "<hr style=\"height:2px;border:none\"/>\n",
    "<h1 align='center'> INF-395 Redes Neuronales Artificiales 2019-1</h1>\n",
    "\n",
    "<H3 align='center'> Tarea 1 - Redes Neuronales y *Deep Learning* </H3>\n",
    "<hr style=\"height:2px;border:none\"/>\n",
    "\n",
    "## Integrantes\n",
    "\n",
    "* _**Francisco Olivares - 201473575-8 - fracisco.olivars.14@sansano.usm.cl**_\n",
    "* _**Gabriel Valenzuela - 201473505-7 - gabriel.valenzuel.14@sansano.usm.cl**_\n",
    "* _**Felipe Vega - 201473511-1 - felipe.vega.14@sansano.usm.cl**_\n",
    "\n",
    "\n",
    "\n",
    "<hr style=\"height:2px;border:none\"/>"
   ]
  },
  {
   "cell_type": "code",
   "execution_count": 1,
   "metadata": {},
   "outputs": [
    {
     "name": "stderr",
     "output_type": "stream",
     "text": [
      "Using TensorFlow backend.\n"
     ]
    },
    {
     "data": {
      "text/html": [
       "<style>.container { width:95% !important; }</style>"
      ],
      "text/plain": [
       "<IPython.core.display.HTML object>"
      ]
     },
     "metadata": {},
     "output_type": "display_data"
    }
   ],
   "source": [
    "#Soy tu bloque pa' los imports papi\n",
    "#Librerías\n",
    "import pandas as pd\n",
    "import numpy as np\n",
    "import matplotlib.pyplot as plt\n",
    "from ipywidgets import interact \n",
    "\n",
    "\n",
    "#Sklearn stuff\n",
    "from sklearn.model_selection import train_test_split\n",
    "from sklearn.preprocessing import StandardScaler\n",
    "from sklearn.metrics import f1_score\n",
    "\n",
    "#Keras stuff\n",
    "from keras.models import Sequential\n",
    "from keras.layers.core import Dense\n",
    "from keras.optimizers import SGD\n",
    "\n",
    "#Que se vea ancho el jupyter\n",
    "from IPython.display import IFrame\n",
    "from IPython.core.display import display, HTML\n",
    "display(HTML(\"<style>.container { width:95% !important; }</style>\"))\n",
    "\n",
    "\n",
    "#Cantidad de columnas a mostrar con pandas\n",
    "pd.set_option('display.max_columns',100)"
   ]
  },
  {
   "cell_type": "markdown",
   "metadata": {},
   "source": [
    "<hr style=\"height:2px;border:none\"/>"
   ]
  },
  {
   "cell_type": "markdown",
   "metadata": {},
   "source": [
    "# Red neuronal Feed Forward para detectar Exoplanetas"
   ]
  },
  {
   "cell_type": "markdown",
   "metadata": {},
   "source": [
    "Para comenzar, se cargarán los datos necesarios, los cuales tienen features extraidas a partir de las curvas de luz (intensidad de la luz en el tiempo) y metadatos de la observación [continuar con el relleno].\n",
    "\n",
    "Desde el archivo _**koi sets unb**_ se obtiene el conjunto al que pertenece cada dato, los cuales pueden ser Test, Train y Unlabeled. Desde _**koi light curves**_ se obtienen las features extraidas a partir de las curvas de luz y los metadatos de la observación. Finalmente, desde _**koi labels**_ se obtendrán las etiquetas de cada exoplaneta, las cuales son _**CONFIRMED**_ o _**FALSE POSITIVE**_."
   ]
  },
  {
   "cell_type": "code",
   "execution_count": 2,
   "metadata": {},
   "outputs": [],
   "source": [
    "df_sets = pd.read_csv(\"data/koi_sets_unb.csv\")\n",
    "\n",
    "mask_train = (df_sets[\"Set\"] == \"Train\").values\n",
    "mask_test = (df_sets[\"Set\"] == \"Test\").values\n",
    "\n",
    "df_labels = pd.read_csv(\"data/koi_labels.csv\")\n",
    "df_X = pd.read_csv(\"data/koi_light_curves_X.csv\")\n",
    "df_labels_train = df_labels[mask_train]\n",
    "df_labels_test = df_labels[mask_test]\n",
    "df_X_train = df_X[mask_train]\n",
    "df_X_test = df_X[mask_test]"
   ]
  },
  {
   "cell_type": "markdown",
   "metadata": {},
   "source": [
    "Con los datos ya cargados, se generan las matrices para los conjuntos de entrenamiento y pruebas, como también se generan una etiqueta binaria para cada dato. Se realizar un boxplot para cada columna con datos numéricos, para observar la existencia de outliers.\n"
   ]
  },
  {
   "cell_type": "code",
   "execution_count": 3,
   "metadata": {
    "scrolled": true
   },
   "outputs": [],
   "source": [
    "y_train = ((df_labels_train[\"NExScI Disposition\"]==\"CONFIRMED\")*1).values\n",
    "y_test = ((df_labels_test[\"NExScI Disposition\"]==\"CONFIRMED\")*1).values\n",
    "df_X_train = df_X_train.reset_index(drop=True)\n",
    "df_X_test = df_X_test.reset_index(drop=True)"
   ]
  },
  {
   "cell_type": "code",
   "execution_count": 4,
   "metadata": {},
   "outputs": [
    {
     "data": {
      "application/vnd.jupyter.widget-view+json": {
       "model_id": "e8868dccbfa44aab8ffe08007fe8a9f4",
       "version_major": 2,
       "version_minor": 0
      },
      "text/plain": [
       "interactive(children=(Dropdown(description='column_name', index=2, options=('Minimum', 'Maximum', 'Mean', 'Std…"
      ]
     },
     "metadata": {},
     "output_type": "display_data"
    },
    {
     "data": {
      "text/plain": [
       "<function __main__.boxplotPlotTrain(column_name='Mean')>"
      ]
     },
     "execution_count": 4,
     "metadata": {},
     "output_type": "execute_result"
    }
   ],
   "source": [
    "def boxplotPlotTrain(column_name = 'Mean'):\n",
    "    plt.figure()\n",
    "    plt.title(\"Boxplot of \"+column_name)\n",
    "    plt.boxplot(df_X_train[column_name])\n",
    "    plt.show()\n",
    "    \n",
    "numeric_columns = []\n",
    "for i in df_X_train.columns:\n",
    "    if np.issubdtype(df_X_train[i].dtype,np.number):\n",
    "        numeric_columns.append(i)  \n",
    "        \n",
    "interact(boxplotPlotTrain, column_name=numeric_columns)        "
   ]
  },
  {
   "cell_type": "markdown",
   "metadata": {},
   "source": [
    "Se observa la presencia de outliers en la gran mayoría de los datos numéricos. Dado lo anterior, se toma la decisión que si existen datos nulos se reemplazarán con la mediana, dado que es un estadístico robusto frente outliers. "
   ]
  },
  {
   "cell_type": "code",
   "execution_count": 5,
   "metadata": {},
   "outputs": [],
   "source": [
    "df_X_train.fillna(df_X_train.median(), inplace=True)\n",
    "df_X_test.fillna(df_X_test.median(), inplace=True)\n",
    "X_train = df_X_train.values[:,1:]\n",
    "X_test = df_X_test.values[:,1:]"
   ]
  },
  {
   "cell_type": "markdown",
   "metadata": {},
   "source": [
    "> _**a) Explore los datos trabajados, ya sea con estadísticos simples o con gráficos como histogramas y/o boxplots. Comente sobre el problema enfrentado, es decir, la tarea de transformar un vector  𝑋  en un valor categórico (0 o 1).**_"
   ]
  },
  {
   "cell_type": "markdown",
   "metadata": {},
   "source": [
    "El dataset cuenta con 41 atributos, cuyos nombres se presentan a continuación, "
   ]
  },
  {
   "cell_type": "code",
   "execution_count": 6,
   "metadata": {},
   "outputs": [
    {
     "data": {
      "text/plain": [
       "Index(['Minimum', 'Maximum', 'Mean', 'Std', 'IQR', 'Skew', 'Kurtosis', 'Q1',\n",
       "       'Q2', 'Slope', 'Amplitude', 'MAD', 'Residual Bright Faint Ratio',\n",
       "       'Median', 'Period', 'Time of Transit Epoch', 'First Transit Time (BJD)',\n",
       "       'Impact Parameter', 'Duration', 'Transit Depth', 'r/R',\n",
       "       'Fitted Stellar Density', 'Planet Radius', 'Semi-major Axis',\n",
       "       'Inclination', 'Teq', 'Insolation Flux', 'a/R', 'Limb Darkening Coeff1',\n",
       "       'Limb Darkening Coeff2', 'Limb Darkening Coeff3',\n",
       "       'Limb Darkening Coeff4', 'Teff', 'log(g)', 'Metallicity',\n",
       "       'Stellar Radius', 'Stellar Mass', 'Max single event sigma',\n",
       "       'Max Multievent sigma', 'Transit Model SNR', 'KOI count'],\n",
       "      dtype='object')"
      ]
     },
     "execution_count": 6,
     "metadata": {},
     "output_type": "execute_result"
    }
   ],
   "source": [
    "columns_names = df_X_train.columns[1:]\n",
    "columns_names"
   ]
  },
  {
   "cell_type": "code",
   "execution_count": 7,
   "metadata": {},
   "outputs": [
    {
     "name": "stdout",
     "output_type": "stream",
     "text": [
      "(4692, 41)\n",
      "(1565, 41)\n"
     ]
    }
   ],
   "source": [
    "print(X_train.shape)\n",
    "print(X_test.shape)\n"
   ]
  },
  {
   "cell_type": "markdown",
   "metadata": {},
   "source": [
    "El conjunto de entrenamiento cuenta con 4692 registros, mientras que el conjunto de pruebas cuenta con 1565 registros."
   ]
  },
  {
   "cell_type": "code",
   "execution_count": 8,
   "metadata": {},
   "outputs": [
    {
     "data": {
      "image/png": "[encoded data removed]",
      "text/plain": [
       "<Figure size 720x504 with 1 Axes>"
      ]
     },
     "metadata": {
      "needs_background": "light"
     },
     "output_type": "display_data"
    }
   ],
   "source": [
    "plt.figure(figsize=(10,7))\n",
    "plt.title(\"Number of examples on each label in Train Set\")\n",
    "plt.bar(['0','1'],[len(y_train)-y_train.sum(),y_train.sum()])\n",
    "plt.xlabel(\"Labels\")\n",
    "plt.ylabel(\"Number of examples\")\n",
    "plt.xticks([0,1],['FALSE POSITIVE','CONFIRMED'])\n",
    "plt.show()"
   ]
  },
  {
   "cell_type": "markdown",
   "metadata": {},
   "source": [
    "Se observa que las etiquetas del conjunto de entrenamiento se encuentran desbalanceadas, por que se espera que la red tienda a clasificar cada registro como FALSE POSITIVE, pues eso minimizaría su probabilidad de equivocarse. Por lo anterior, al momento de evaluar el desempeño de la red se debe considerar además otra métrica distinta de la _accuracy_, como el _F1 Score_."
   ]
  },
  {
   "cell_type": "markdown",
   "metadata": {},
   "source": [
    "A continuación se presentan distintos estadísticos para cada uno de los atributos"
   ]
  },
  {
   "cell_type": "code",
   "execution_count": 9,
   "metadata": {},
   "outputs": [
    {
     "data": {
      "text/html": [
       "<div>\n",
       "<style scoped>\n",
       "    .dataframe tbody tr th:only-of-type {\n",
       "        vertical-align: middle;\n",
       "    }\n",
       "\n",
       "    .dataframe tbody tr th {\n",
       "        vertical-align: top;\n",
       "    }\n",
       "\n",
       "    .dataframe thead th {\n",
       "        text-align: right;\n",
       "    }\n",
       "</style>\n",
       "<table border=\"1\" class=\"dataframe\">\n",
       "  <thead>\n",
       "    <tr style=\"text-align: right;\">\n",
       "      <th></th>\n",
       "      <th>Minimum</th>\n",
       "      <th>Maximum</th>\n",
       "      <th>Mean</th>\n",
       "      <th>Std</th>\n",
       "      <th>IQR</th>\n",
       "      <th>Skew</th>\n",
       "      <th>Kurtosis</th>\n",
       "      <th>Q1</th>\n",
       "      <th>Q2</th>\n",
       "      <th>Slope</th>\n",
       "      <th>Amplitude</th>\n",
       "      <th>MAD</th>\n",
       "      <th>Residual Bright Faint Ratio</th>\n",
       "      <th>Median</th>\n",
       "      <th>Period</th>\n",
       "      <th>Time of Transit Epoch</th>\n",
       "      <th>First Transit Time (BJD)</th>\n",
       "      <th>Impact Parameter</th>\n",
       "      <th>Duration</th>\n",
       "      <th>Transit Depth</th>\n",
       "      <th>r/R</th>\n",
       "      <th>Fitted Stellar Density</th>\n",
       "      <th>Planet Radius</th>\n",
       "      <th>Semi-major Axis</th>\n",
       "      <th>Inclination</th>\n",
       "      <th>Teq</th>\n",
       "      <th>Insolation Flux</th>\n",
       "      <th>a/R</th>\n",
       "      <th>Limb Darkening Coeff1</th>\n",
       "      <th>Limb Darkening Coeff2</th>\n",
       "      <th>Limb Darkening Coeff3</th>\n",
       "      <th>Limb Darkening Coeff4</th>\n",
       "      <th>Teff</th>\n",
       "      <th>log(g)</th>\n",
       "      <th>Metallicity</th>\n",
       "      <th>Stellar Radius</th>\n",
       "      <th>Stellar Mass</th>\n",
       "      <th>Max single event sigma</th>\n",
       "      <th>Max Multievent sigma</th>\n",
       "      <th>Transit Model SNR</th>\n",
       "      <th>KOI count</th>\n",
       "    </tr>\n",
       "  </thead>\n",
       "  <tbody>\n",
       "    <tr>\n",
       "      <th>count</th>\n",
       "      <td>4692.000000</td>\n",
       "      <td>4692.000000</td>\n",
       "      <td>4692.000000</td>\n",
       "      <td>4692.000000</td>\n",
       "      <td>4692.000000</td>\n",
       "      <td>4692.000000</td>\n",
       "      <td>4692.000000</td>\n",
       "      <td>4692.000000</td>\n",
       "      <td>4692.000000</td>\n",
       "      <td>4.692000e+03</td>\n",
       "      <td>4692.000000</td>\n",
       "      <td>4692.000000</td>\n",
       "      <td>4692.000000</td>\n",
       "      <td>4692.000000</td>\n",
       "      <td>4692.000000</td>\n",
       "      <td>4692.000000</td>\n",
       "      <td>4.692000e+03</td>\n",
       "      <td>4692.000000</td>\n",
       "      <td>4692.000000</td>\n",
       "      <td>4692.000000</td>\n",
       "      <td>4692.000000</td>\n",
       "      <td>4692.000000</td>\n",
       "      <td>4692.000000</td>\n",
       "      <td>4692.000000</td>\n",
       "      <td>4692.000000</td>\n",
       "      <td>4692.000000</td>\n",
       "      <td>4.692000e+03</td>\n",
       "      <td>4692.000000</td>\n",
       "      <td>4692.000000</td>\n",
       "      <td>4692.000000</td>\n",
       "      <td>4692.0</td>\n",
       "      <td>4692.0</td>\n",
       "      <td>4692.000000</td>\n",
       "      <td>4692.000000</td>\n",
       "      <td>4692.000000</td>\n",
       "      <td>4692.000000</td>\n",
       "      <td>4692.000000</td>\n",
       "      <td>4692.000000</td>\n",
       "      <td>4692.000000</td>\n",
       "      <td>4692.000000</td>\n",
       "      <td>4692.000000</td>\n",
       "    </tr>\n",
       "    <tr>\n",
       "      <th>mean</th>\n",
       "      <td>-66.492676</td>\n",
       "      <td>23.987692</td>\n",
       "      <td>-0.142418</td>\n",
       "      <td>4.136842</td>\n",
       "      <td>0.333109</td>\n",
       "      <td>-9.386612</td>\n",
       "      <td>211.410321</td>\n",
       "      <td>-0.105753</td>\n",
       "      <td>0.017978</td>\n",
       "      <td>1.483853e-07</td>\n",
       "      <td>45.240184</td>\n",
       "      <td>0.147191</td>\n",
       "      <td>103.043248</td>\n",
       "      <td>0.017978</td>\n",
       "      <td>39.181997</td>\n",
       "      <td>159.105302</td>\n",
       "      <td>2.454992e+06</td>\n",
       "      <td>0.664878</td>\n",
       "      <td>5.786126</td>\n",
       "      <td>40197.917882</td>\n",
       "      <td>0.211793</td>\n",
       "      <td>3.246083</td>\n",
       "      <td>40.520243</td>\n",
       "      <td>0.162023</td>\n",
       "      <td>80.784582</td>\n",
       "      <td>1219.953751</td>\n",
       "      <td>1.104767e+04</td>\n",
       "      <td>37.746210</td>\n",
       "      <td>0.404140</td>\n",
       "      <td>0.255844</td>\n",
       "      <td>0.0</td>\n",
       "      <td>0.0</td>\n",
       "      <td>5744.338875</td>\n",
       "      <td>4.296402</td>\n",
       "      <td>-0.132632</td>\n",
       "      <td>1.900540</td>\n",
       "      <td>1.036185</td>\n",
       "      <td>287.105781</td>\n",
       "      <td>1676.133027</td>\n",
       "      <td>433.699680</td>\n",
       "      <td>1.460358</td>\n",
       "    </tr>\n",
       "    <tr>\n",
       "      <th>std</th>\n",
       "      <td>274.391875</td>\n",
       "      <td>112.019945</td>\n",
       "      <td>0.501607</td>\n",
       "      <td>18.127797</td>\n",
       "      <td>2.060592</td>\n",
       "      <td>9.112166</td>\n",
       "      <td>539.593897</td>\n",
       "      <td>0.450513</td>\n",
       "      <td>0.366224</td>\n",
       "      <td>7.449019e-06</td>\n",
       "      <td>190.309298</td>\n",
       "      <td>0.862019</td>\n",
       "      <td>153.443064</td>\n",
       "      <td>0.366224</td>\n",
       "      <td>94.453978</td>\n",
       "      <td>61.608967</td>\n",
       "      <td>6.160896e+01</td>\n",
       "      <td>0.934906</td>\n",
       "      <td>7.185999</td>\n",
       "      <td>105008.944336</td>\n",
       "      <td>0.856294</td>\n",
       "      <td>20.059514</td>\n",
       "      <td>405.813248</td>\n",
       "      <td>0.252837</td>\n",
       "      <td>16.700814</td>\n",
       "      <td>950.878177</td>\n",
       "      <td>1.931656e+05</td>\n",
       "      <td>88.758042</td>\n",
       "      <td>0.108433</td>\n",
       "      <td>0.065967</td>\n",
       "      <td>0.0</td>\n",
       "      <td>0.0</td>\n",
       "      <td>860.487363</td>\n",
       "      <td>0.457178</td>\n",
       "      <td>0.283833</td>\n",
       "      <td>7.311725</td>\n",
       "      <td>0.372291</td>\n",
       "      <td>1001.727968</td>\n",
       "      <td>5421.050203</td>\n",
       "      <td>1052.012721</td>\n",
       "      <td>0.950673</td>\n",
       "    </tr>\n",
       "    <tr>\n",
       "      <th>min</th>\n",
       "      <td>-8446.637695</td>\n",
       "      <td>0.000000</td>\n",
       "      <td>-13.658888</td>\n",
       "      <td>0.000000</td>\n",
       "      <td>0.000000</td>\n",
       "      <td>-117.225060</td>\n",
       "      <td>-3.000000</td>\n",
       "      <td>-11.479470</td>\n",
       "      <td>-1.961110</td>\n",
       "      <td>-1.280449e-04</td>\n",
       "      <td>0.000000</td>\n",
       "      <td>0.000000</td>\n",
       "      <td>1.032485</td>\n",
       "      <td>-1.961110</td>\n",
       "      <td>0.299698</td>\n",
       "      <td>120.565925</td>\n",
       "      <td>2.454954e+06</td>\n",
       "      <td>0.000000</td>\n",
       "      <td>0.296100</td>\n",
       "      <td>0.800000</td>\n",
       "      <td>0.001000</td>\n",
       "      <td>0.000040</td>\n",
       "      <td>0.080000</td>\n",
       "      <td>0.006000</td>\n",
       "      <td>5.260000</td>\n",
       "      <td>92.000000</td>\n",
       "      <td>2.000000e-02</td>\n",
       "      <td>1.006000</td>\n",
       "      <td>0.128000</td>\n",
       "      <td>-0.121000</td>\n",
       "      <td>0.0</td>\n",
       "      <td>0.0</td>\n",
       "      <td>2703.000000</td>\n",
       "      <td>0.047000</td>\n",
       "      <td>-1.980000</td>\n",
       "      <td>0.118000</td>\n",
       "      <td>0.000000</td>\n",
       "      <td>2.539000</td>\n",
       "      <td>7.105000</td>\n",
       "      <td>0.000000</td>\n",
       "      <td>1.000000</td>\n",
       "    </tr>\n",
       "    <tr>\n",
       "      <th>25%</th>\n",
       "      <td>-7.086795</td>\n",
       "      <td>0.167940</td>\n",
       "      <td>-0.028155</td>\n",
       "      <td>0.051691</td>\n",
       "      <td>0.002100</td>\n",
       "      <td>-11.797075</td>\n",
       "      <td>17.711536</td>\n",
       "      <td>-0.014000</td>\n",
       "      <td>-0.001772</td>\n",
       "      <td>-3.708501e-08</td>\n",
       "      <td>0.418177</td>\n",
       "      <td>0.000670</td>\n",
       "      <td>22.901289</td>\n",
       "      <td>-0.001772</td>\n",
       "      <td>2.068399</td>\n",
       "      <td>132.467184</td>\n",
       "      <td>2.454965e+06</td>\n",
       "      <td>0.248000</td>\n",
       "      <td>2.599597</td>\n",
       "      <td>206.600000</td>\n",
       "      <td>0.014000</td>\n",
       "      <td>0.177645</td>\n",
       "      <td>1.600000</td>\n",
       "      <td>0.032000</td>\n",
       "      <td>81.320000</td>\n",
       "      <td>614.000000</td>\n",
       "      <td>3.351750e+01</td>\n",
       "      <td>4.090000</td>\n",
       "      <td>0.324000</td>\n",
       "      <td>0.229000</td>\n",
       "      <td>0.0</td>\n",
       "      <td>0.0</td>\n",
       "      <td>5332.000000</td>\n",
       "      <td>4.192750</td>\n",
       "      <td>-0.280000</td>\n",
       "      <td>0.832750</td>\n",
       "      <td>0.849000</td>\n",
       "      <td>4.317000</td>\n",
       "      <td>13.582000</td>\n",
       "      <td>18.300000</td>\n",
       "      <td>1.000000</td>\n",
       "    </tr>\n",
       "    <tr>\n",
       "      <th>50%</th>\n",
       "      <td>-1.620665</td>\n",
       "      <td>0.439595</td>\n",
       "      <td>-0.008431</td>\n",
       "      <td>0.105266</td>\n",
       "      <td>0.009035</td>\n",
       "      <td>-6.907724</td>\n",
       "      <td>58.183594</td>\n",
       "      <td>-0.003770</td>\n",
       "      <td>0.000000</td>\n",
       "      <td>0.000000e+00</td>\n",
       "      <td>1.056900</td>\n",
       "      <td>0.004060</td>\n",
       "      <td>54.585001</td>\n",
       "      <td>0.000000</td>\n",
       "      <td>7.096163</td>\n",
       "      <td>135.694975</td>\n",
       "      <td>2.454969e+06</td>\n",
       "      <td>0.618000</td>\n",
       "      <td>3.984500</td>\n",
       "      <td>622.200000</td>\n",
       "      <td>0.027000</td>\n",
       "      <td>0.719020</td>\n",
       "      <td>2.970000</td>\n",
       "      <td>0.072000</td>\n",
       "      <td>87.820000</td>\n",
       "      <td>981.000000</td>\n",
       "      <td>2.208000e+02</td>\n",
       "      <td>11.720000</td>\n",
       "      <td>0.386000</td>\n",
       "      <td>0.273000</td>\n",
       "      <td>0.0</td>\n",
       "      <td>0.0</td>\n",
       "      <td>5780.000000</td>\n",
       "      <td>4.432000</td>\n",
       "      <td>-0.100000</td>\n",
       "      <td>1.001000</td>\n",
       "      <td>0.974000</td>\n",
       "      <td>6.592500</td>\n",
       "      <td>27.682000</td>\n",
       "      <td>39.100000</td>\n",
       "      <td>1.000000</td>\n",
       "    </tr>\n",
       "    <tr>\n",
       "      <th>75%</th>\n",
       "      <td>-0.643782</td>\n",
       "      <td>2.028700</td>\n",
       "      <td>-0.002930</td>\n",
       "      <td>0.411105</td>\n",
       "      <td>0.028001</td>\n",
       "      <td>-3.781710</td>\n",
       "      <td>170.416851</td>\n",
       "      <td>-0.000190</td>\n",
       "      <td>0.000000</td>\n",
       "      <td>4.254584e-08</td>\n",
       "      <td>4.523286</td>\n",
       "      <td>0.011992</td>\n",
       "      <td>118.101057</td>\n",
       "      <td>0.000000</td>\n",
       "      <td>23.561688</td>\n",
       "      <td>162.886710</td>\n",
       "      <td>2.454996e+06</td>\n",
       "      <td>0.922250</td>\n",
       "      <td>6.240750</td>\n",
       "      <td>6538.950000</td>\n",
       "      <td>0.261000</td>\n",
       "      <td>2.204478</td>\n",
       "      <td>33.412500</td>\n",
       "      <td>0.159000</td>\n",
       "      <td>89.520000</td>\n",
       "      <td>1558.000000</td>\n",
       "      <td>1.420352e+03</td>\n",
       "      <td>31.092500</td>\n",
       "      <td>0.460000</td>\n",
       "      <td>0.302000</td>\n",
       "      <td>0.0</td>\n",
       "      <td>0.0</td>\n",
       "      <td>6137.000000</td>\n",
       "      <td>4.539000</td>\n",
       "      <td>0.070000</td>\n",
       "      <td>1.392000</td>\n",
       "      <td>1.107000</td>\n",
       "      <td>52.505750</td>\n",
       "      <td>272.439000</td>\n",
       "      <td>201.150000</td>\n",
       "      <td>2.000000</td>\n",
       "    </tr>\n",
       "    <tr>\n",
       "      <th>max</th>\n",
       "      <td>0.000000</td>\n",
       "      <td>3780.657715</td>\n",
       "      <td>0.000000</td>\n",
       "      <td>686.443909</td>\n",
       "      <td>76.330341</td>\n",
       "      <td>16.964659</td>\n",
       "      <td>16951.279152</td>\n",
       "      <td>5.092345</td>\n",
       "      <td>15.002840</td>\n",
       "      <td>1.998463e-04</td>\n",
       "      <td>5550.700195</td>\n",
       "      <td>28.998531</td>\n",
       "      <td>2709.687200</td>\n",
       "      <td>15.002840</td>\n",
       "      <td>1071.232624</td>\n",
       "      <td>1472.522306</td>\n",
       "      <td>2.456306e+06</td>\n",
       "      <td>25.224000</td>\n",
       "      <td>138.540000</td>\n",
       "      <td>921671.000000</td>\n",
       "      <td>24.663000</td>\n",
       "      <td>839.902280</td>\n",
       "      <td>26042.900000</td>\n",
       "      <td>2.152000</td>\n",
       "      <td>90.000000</td>\n",
       "      <td>14667.000000</td>\n",
       "      <td>1.094755e+07</td>\n",
       "      <td>1603.000000</td>\n",
       "      <td>0.944000</td>\n",
       "      <td>0.464000</td>\n",
       "      <td>0.0</td>\n",
       "      <td>0.0</td>\n",
       "      <td>15896.000000</td>\n",
       "      <td>5.274000</td>\n",
       "      <td>0.560000</td>\n",
       "      <td>229.908000</td>\n",
       "      <td>3.735000</td>\n",
       "      <td>22982.162000</td>\n",
       "      <td>120049.680000</td>\n",
       "      <td>9054.700000</td>\n",
       "      <td>7.000000</td>\n",
       "    </tr>\n",
       "  </tbody>\n",
       "</table>\n",
       "</div>"
      ],
      "text/plain": [
       "           Minimum      Maximum         Mean          Std          IQR  \\\n",
       "count  4692.000000  4692.000000  4692.000000  4692.000000  4692.000000   \n",
       "mean    -66.492676    23.987692    -0.142418     4.136842     0.333109   \n",
       "std     274.391875   112.019945     0.501607    18.127797     2.060592   \n",
       "min   -8446.637695     0.000000   -13.658888     0.000000     0.000000   \n",
       "25%      -7.086795     0.167940    -0.028155     0.051691     0.002100   \n",
       "50%      -1.620665     0.439595    -0.008431     0.105266     0.009035   \n",
       "75%      -0.643782     2.028700    -0.002930     0.411105     0.028001   \n",
       "max       0.000000  3780.657715     0.000000   686.443909    76.330341   \n",
       "\n",
       "              Skew      Kurtosis           Q1           Q2         Slope  \\\n",
       "count  4692.000000   4692.000000  4692.000000  4692.000000  4.692000e+03   \n",
       "mean     -9.386612    211.410321    -0.105753     0.017978  1.483853e-07   \n",
       "std       9.112166    539.593897     0.450513     0.366224  7.449019e-06   \n",
       "min    -117.225060     -3.000000   -11.479470    -1.961110 -1.280449e-04   \n",
       "25%     -11.797075     17.711536    -0.014000    -0.001772 -3.708501e-08   \n",
       "50%      -6.907724     58.183594    -0.003770     0.000000  0.000000e+00   \n",
       "75%      -3.781710    170.416851    -0.000190     0.000000  4.254584e-08   \n",
       "max      16.964659  16951.279152     5.092345    15.002840  1.998463e-04   \n",
       "\n",
       "         Amplitude          MAD  Residual Bright Faint Ratio       Median  \\\n",
       "count  4692.000000  4692.000000                  4692.000000  4692.000000   \n",
       "mean     45.240184     0.147191                   103.043248     0.017978   \n",
       "std     190.309298     0.862019                   153.443064     0.366224   \n",
       "min       0.000000     0.000000                     1.032485    -1.961110   \n",
       "25%       0.418177     0.000670                    22.901289    -0.001772   \n",
       "50%       1.056900     0.004060                    54.585001     0.000000   \n",
       "75%       4.523286     0.011992                   118.101057     0.000000   \n",
       "max    5550.700195    28.998531                  2709.687200    15.002840   \n",
       "\n",
       "            Period  Time of Transit Epoch  First Transit Time (BJD)  \\\n",
       "count  4692.000000            4692.000000              4.692000e+03   \n",
       "mean     39.181997             159.105302              2.454992e+06   \n",
       "std      94.453978              61.608967              6.160896e+01   \n",
       "min       0.299698             120.565925              2.454954e+06   \n",
       "25%       2.068399             132.467184              2.454965e+06   \n",
       "50%       7.096163             135.694975              2.454969e+06   \n",
       "75%      23.561688             162.886710              2.454996e+06   \n",
       "max    1071.232624            1472.522306              2.456306e+06   \n",
       "\n",
       "       Impact Parameter     Duration  Transit Depth          r/R  \\\n",
       "count       4692.000000  4692.000000    4692.000000  4692.000000   \n",
       "mean           0.664878     5.786126   40197.917882     0.211793   \n",
       "std            0.934906     7.185999  105008.944336     0.856294   \n",
       "min            0.000000     0.296100       0.800000     0.001000   \n",
       "25%            0.248000     2.599597     206.600000     0.014000   \n",
       "50%            0.618000     3.984500     622.200000     0.027000   \n",
       "75%            0.922250     6.240750    6538.950000     0.261000   \n",
       "max           25.224000   138.540000  921671.000000    24.663000   \n",
       "\n",
       "       Fitted Stellar Density  Planet Radius  Semi-major Axis  Inclination  \\\n",
       "count             4692.000000    4692.000000      4692.000000  4692.000000   \n",
       "mean                 3.246083      40.520243         0.162023    80.784582   \n",
       "std                 20.059514     405.813248         0.252837    16.700814   \n",
       "min                  0.000040       0.080000         0.006000     5.260000   \n",
       "25%                  0.177645       1.600000         0.032000    81.320000   \n",
       "50%                  0.719020       2.970000         0.072000    87.820000   \n",
       "75%                  2.204478      33.412500         0.159000    89.520000   \n",
       "max                839.902280   26042.900000         2.152000    90.000000   \n",
       "\n",
       "                Teq  Insolation Flux          a/R  Limb Darkening Coeff1  \\\n",
       "count   4692.000000     4.692000e+03  4692.000000            4692.000000   \n",
       "mean    1219.953751     1.104767e+04    37.746210               0.404140   \n",
       "std      950.878177     1.931656e+05    88.758042               0.108433   \n",
       "min       92.000000     2.000000e-02     1.006000               0.128000   \n",
       "25%      614.000000     3.351750e+01     4.090000               0.324000   \n",
       "50%      981.000000     2.208000e+02    11.720000               0.386000   \n",
       "75%     1558.000000     1.420352e+03    31.092500               0.460000   \n",
       "max    14667.000000     1.094755e+07  1603.000000               0.944000   \n",
       "\n",
       "       Limb Darkening Coeff2  Limb Darkening Coeff3  Limb Darkening Coeff4  \\\n",
       "count            4692.000000                 4692.0                 4692.0   \n",
       "mean                0.255844                    0.0                    0.0   \n",
       "std                 0.065967                    0.0                    0.0   \n",
       "min                -0.121000                    0.0                    0.0   \n",
       "25%                 0.229000                    0.0                    0.0   \n",
       "50%                 0.273000                    0.0                    0.0   \n",
       "75%                 0.302000                    0.0                    0.0   \n",
       "max                 0.464000                    0.0                    0.0   \n",
       "\n",
       "               Teff       log(g)  Metallicity  Stellar Radius  Stellar Mass  \\\n",
       "count   4692.000000  4692.000000  4692.000000     4692.000000   4692.000000   \n",
       "mean    5744.338875     4.296402    -0.132632        1.900540      1.036185   \n",
       "std      860.487363     0.457178     0.283833        7.311725      0.372291   \n",
       "min     2703.000000     0.047000    -1.980000        0.118000      0.000000   \n",
       "25%     5332.000000     4.192750    -0.280000        0.832750      0.849000   \n",
       "50%     5780.000000     4.432000    -0.100000        1.001000      0.974000   \n",
       "75%     6137.000000     4.539000     0.070000        1.392000      1.107000   \n",
       "max    15896.000000     5.274000     0.560000      229.908000      3.735000   \n",
       "\n",
       "       Max single event sigma  Max Multievent sigma  Transit Model SNR  \\\n",
       "count             4692.000000           4692.000000        4692.000000   \n",
       "mean               287.105781           1676.133027         433.699680   \n",
       "std               1001.727968           5421.050203        1052.012721   \n",
       "min                  2.539000              7.105000           0.000000   \n",
       "25%                  4.317000             13.582000          18.300000   \n",
       "50%                  6.592500             27.682000          39.100000   \n",
       "75%                 52.505750            272.439000         201.150000   \n",
       "max              22982.162000         120049.680000        9054.700000   \n",
       "\n",
       "         KOI count  \n",
       "count  4692.000000  \n",
       "mean      1.460358  \n",
       "std       0.950673  \n",
       "min       1.000000  \n",
       "25%       1.000000  \n",
       "50%       1.000000  \n",
       "75%       2.000000  \n",
       "max       7.000000  "
      ]
     },
     "execution_count": 9,
     "metadata": {},
     "output_type": "execute_result"
    }
   ],
   "source": [
    "df_X_train.describe()"
   ]
  },
  {
   "cell_type": "markdown",
   "metadata": {},
   "source": [
    "Se observan grandes diferencias entre el mínimo y el segundo cuartil, como también entre el máximo y el tercer cuartil, lo que concuerda con lo mostrado por los boxplots anteriores. También se ven las diferencias entre la media y la mediana, lo que refuerza la decisión de usar un estadístico robusto frente a outliers."
   ]
  },
  {
   "cell_type": "markdown",
   "metadata": {},
   "source": [
    "Se genera un histograma y un boxplot para cada una de las columnas en ambos dataset."
   ]
  },
  {
   "cell_type": "code",
   "execution_count": 10,
   "metadata": {},
   "outputs": [],
   "source": [
    "def histAndBoxplot(column_name='Minimum', dataset='Train'):\n",
    "    if(dataset=='Train'):\n",
    "        df = df_X_train\n",
    "    else:\n",
    "        df = df_X_test\n",
    "    plt.figure(figsize=(15,7))    \n",
    "    plt.subplot(121)\n",
    "    plt.title(\"Histogram of \"+ column_name)\n",
    "    plt.hist(df[column_name])\n",
    "    plt.subplot(122)\n",
    "    plt.title(\"Boxplot of \" + column_name)\n",
    "    plt.boxplot(df[column_name])\n",
    "    plt.show()\n",
    "    "
   ]
  },
  {
   "cell_type": "code",
   "execution_count": 11,
   "metadata": {},
   "outputs": [
    {
     "data": {
      "application/vnd.jupyter.widget-view+json": {
       "model_id": "68dfee3ff62b4967824d896daa205464",
       "version_major": 2,
       "version_minor": 0
      },
      "text/plain": [
       "interactive(children=(Dropdown(description='column_name', options=('Minimum', 'Maximum', 'Mean', 'Std', 'IQR',…"
      ]
     },
     "metadata": {},
     "output_type": "display_data"
    },
    {
     "data": {
      "text/plain": [
       "<function __main__.histAndBoxplot(column_name='Minimum', dataset='Train')>"
      ]
     },
     "execution_count": 11,
     "metadata": {},
     "output_type": "execute_result"
    }
   ],
   "source": [
    "interact(histAndBoxplot,column_name = columns_names,dataset=['Train','Test'])"
   ]
  },
  {
   "cell_type": "markdown",
   "metadata": {},
   "source": [
    "Se observa una gran cantidad de outliers en casi todos los atributos. Una posible decisión sería eliminar algunos de ellos, pero como no se tienen conocimientos astronómicos sobre Exoplanetas se prefiere mantenerlos en el dataset, pues podrían ser elementos específicos de cierto tipo de objetos astronómicos."
   ]
  },
  {
   "cell_type": "markdown",
   "metadata": {},
   "source": [
    "El problema a enfrentar es el de clasificación entre dos clases mutuamente excluyentes. Por lo tanto, a partir de un vector se debe obtener un valor categórico, lo que de utilizar Redes Neuronales Feed Forward se puede lograr mediante la aplicación de transformaciones entre capas de neuronas, donde finalmente la capa de salida cuente solo con dos neuronas, cuyo resultado de computo entregará la probabilidad de pertenecer a cierta etiqueta o no. Al ser etiquetaas mutuamente excluyentes se debe utilizar una función de activación adecuada, como por ejemplo la función Soft-Max, lo que entregará ambos resultados entre 0 o 1, donde además la suma entre ellos da 1. Finalmente, para entregar un valor entre 0 y 1, se determina cual de las probabilidades entregadas es mayor, y en función de eso se retorna la etiqueta de la clase requerida.\n",
    "\n",
    "Cabe destacar que para resolver este tipo de problemas se busca aproximar $P(y|x)$, es decir, la pertenencia a una determinada clase dado un ejemplo en específico. Por lo anterior, se requiere utilizar una función de perdida adecuada en el entrenamiento, como por ejemplo la Cross-Entropy Loss, la cual calcula las divergencias entre la función de probabilidad que se desea aproximar y la aproximación. Acá surge un nuevo problema en este caso, pues al tener clases desbalanceadas el clasificador tenderá a clasificar un mayor cantidad de ejemplos con la etiqueta de la clase dominante, debido a que la Cross-Entropy Loss funciona en base a _*accuracy*_, y al clasificar todo con la etiqueta de la clase dominante este valor tendería a ser más alto si es desbalance es demasiado. [REVISAR EL CHAMUYO OE ZI]\n"
   ]
  },
  {
   "cell_type": "markdown",
   "metadata": {},
   "source": [
    "> _**b) Escale los datos para ser trabajados por el modelo de aprendizaje, indique la importancia de éste paso. Además cree un conjunto de validación extrayendo un cierto porcentaje del conjunto de entrenamiento, por ejemplo el 20% manteniendo el desbalanceo de clases (split stratificado).**_"
   ]
  },
  {
   "cell_type": "markdown",
   "metadata": {},
   "source": [
    "Se escalan los datos antes de trabajarlos con el modelo de aprendizaje, este paso es importante, pues al tener columnas con datos de distintas magnitudes, el modelo mayor importancia a aquellos atributos con magnitud más grande. En el caso de las Redes Neuronales Feed Forward, al momento de calcular la activación de cada capa. \n",
    "\n",
    "$$ a_i = \\sigma\\left( W_{i}^{T} \\cdot a_{i-1} + b_{i}\\right)$$\n",
    "\n",
    "Al tener elementos con magnitudes más grandes afectarían directamente a las activaciones de las capas siguientes, por lo que un buen escalamiento de datos se hace realmente importante.\n",
    "\n",
    "Además se separa un conjunto de validación, considerando un 20$\\%$ de los datos del conjunto de entrenamiento, con el objetivo de usar dicho conjunto como un predictor del comportamiento en el conjunto de pruebas."
   ]
  },
  {
   "cell_type": "code",
   "execution_count": 12,
   "metadata": {},
   "outputs": [
    {
     "name": "stdout",
     "output_type": "stream",
     "text": [
      "Shape of X_train (3753, 41)\n",
      "Shape of X_val (939, 41)\n"
     ]
    }
   ],
   "source": [
    "X_train, X_val, y_train, y_val = train_test_split(X_train, y_train, test_size=0.2,stratify=y_train,random_state=42)\n",
    "print(\"Shape of X_train \"+str(np.shape(X_train)))\n",
    "print(\"Shape of X_val \"+str(np.shape(X_val)))"
   ]
  },
  {
   "cell_type": "code",
   "execution_count": 13,
   "metadata": {},
   "outputs": [
    {
     "name": "stderr",
     "output_type": "stream",
     "text": [
      "c:\\mauro\\redesn~1\\env\\lib\\site-packages\\sklearn\\utils\\validation.py:595: DataConversionWarning: Data with input dtype object was converted to float64 by StandardScaler.\n",
      "  warnings.warn(msg, DataConversionWarning)\n",
      "c:\\mauro\\redesn~1\\env\\lib\\site-packages\\sklearn\\utils\\validation.py:595: DataConversionWarning: Data with input dtype object was converted to float64 by StandardScaler.\n",
      "  warnings.warn(msg, DataConversionWarning)\n",
      "c:\\mauro\\redesn~1\\env\\lib\\site-packages\\sklearn\\utils\\validation.py:595: DataConversionWarning: Data with input dtype object was converted to float64 by StandardScaler.\n",
      "  warnings.warn(msg, DataConversionWarning)\n",
      "c:\\mauro\\redesn~1\\env\\lib\\site-packages\\sklearn\\utils\\validation.py:595: DataConversionWarning: Data with input dtype object was converted to float64 by StandardScaler.\n",
      "  warnings.warn(msg, DataConversionWarning)\n"
     ]
    }
   ],
   "source": [
    "scaler = StandardScaler()\n",
    "scaler.fit(X_train)\n",
    "X_train_scaled = scaler.transform(X_train)\n",
    "X_val_scaled = scaler.transform(X_val)\n",
    "X_test_scaled =  scaler.transform(X_test)"
   ]
  },
  {
   "cell_type": "markdown",
   "metadata": {},
   "source": [
    "> _**c) Muestre en un gráfico la función objetivo (cross entropy) para el conjunto de entrenamiento y de validación vs número de epochs de entrenamiento, para una red feedforward de 3 capas, con 256 unidades ocultas y función de activación sigmoidal. Entrene la red usando gradiente descendente estocástico con tasa de aprendizaje (learning rate) 0.01 y 100 epochs de entrenamiento. Comente. Si observa divergencia durante el entrenamiento, determine si esto ocurre para cada repetición del experimento. Compare el efecto de variar la función de activación a ReLU ¿Qué observa en la convergencia del modelo?**_"
   ]
  },
  {
   "cell_type": "markdown",
   "metadata": {},
   "source": [
    "Se entrenan dos redes distintas, una con función de activación sigmoidal y la otra con función de activación Relu. Para cada red se grafica el valor de su Loss Function en cada Epoch para los conjuntos de entrenamiento y validación. Como se está utilizando gradiente descendente estocástico, se repite el experiento 10 veces."
   ]
  },
  {
   "cell_type": "code",
   "execution_count": 14,
   "metadata": {},
   "outputs": [],
   "source": [
    "hist_list = []\n",
    "hist_list_relu = []\n",
    "epoch_list = [x for x in range(1,101)]\n",
    "for i in range(10):\n",
    "    model = Sequential()\n",
    "    model.add(Dense(256, input_dim=X_train_scaled.shape[1],kernel_initializer='uniform',activation='sigmoid'))\n",
    "    model.add(Dense(1, kernel_initializer='uniform',activation=\"sigmoid\"))\n",
    "    model.compile(optimizer=SGD(lr=0.01),loss='binary_crossentropy')\n",
    "    hist_list.append(model.fit(X_train_scaled,y_train,epochs=100,verbose=0,validation_data=(X_val_scaled,y_val)))\n",
    "  \n",
    "    model = Sequential()\n",
    "    model.add(Dense(256, input_dim=X_train_scaled.shape[1],kernel_initializer='uniform',activation='relu'))\n",
    "    model.add(Dense(1, kernel_initializer='uniform',activation=\"relu\"))\n",
    "    model.compile(optimizer=SGD(lr=0.01),loss='binary_crossentropy')\n",
    "    hist_list_relu.append(model.fit(X_train_scaled,y_train,epochs=100,verbose=0,validation_data=(X_val_scaled,y_val)))"
   ]
  },
  {
   "cell_type": "markdown",
   "metadata": {},
   "source": [
    "Las redes entrenadas tienen la siguiente arquitectura"
   ]
  },
  {
   "cell_type": "code",
   "execution_count": 21,
   "metadata": {},
   "outputs": [
    {
     "name": "stdout",
     "output_type": "stream",
     "text": [
      "_________________________________________________________________\n",
      "Layer (type)                 Output Shape              Param #   \n",
      "=================================================================\n",
      "dense_39 (Dense)             (None, 256)               10752     \n",
      "_________________________________________________________________\n",
      "dense_40 (Dense)             (None, 1)                 257       \n",
      "=================================================================\n",
      "Total params: 11,009\n",
      "Trainable params: 11,009\n",
      "Non-trainable params: 0\n",
      "_________________________________________________________________\n"
     ]
    }
   ],
   "source": [
    "model.summary()"
   ]
  },
  {
   "cell_type": "code",
   "execution_count": 15,
   "metadata": {},
   "outputs": [
    {
     "data": {
      "image/png": "[encoded data removed]",
      "text/plain": [
       "<Figure size 1440x504 with 2 Axes>"
      ]
     },
     "metadata": {
      "needs_background": "light"
     },
     "output_type": "display_data"
    }
   ],
   "source": [
    "plt.figure(figsize=(20,7))\n",
    "plt.subplot(121)\n",
    "plt.title('Cross-Entropy Loss versus Epoch')\n",
    "plt.xlabel('Epoch')\n",
    "plt.ylabel('Loss')\n",
    "\n",
    "\n",
    "for i in hist_list:\n",
    "    plt.plot(epoch_list,i.history['loss'],color='blue')\n",
    "    plt.plot(epoch_list,i.history['val_loss'],color='green')\n",
    "\n",
    "plt.legend(['Train Sigmoid','Validation Sigmoid'],loc='upper right')\n",
    "  \n",
    "plt.subplot(122)\n",
    "plt.title('Cross-Entropy Loss versus Epoch')\n",
    "plt.xlabel('Epoch')\n",
    "plt.ylabel('Loss')\n",
    "\n",
    "for j in hist_list_relu:\n",
    "    plt.plot(epoch_list,j.history['loss'],color='red')\n",
    "    plt.plot(epoch_list,j.history['val_loss'],color='yellow')\n",
    "\n",
    "plt.legend(['Train Relu','Validation Relu'],loc='upper right')\n",
    "plt.show()  \n"
   ]
  },
  {
   "cell_type": "markdown",
   "metadata": {},
   "source": [
    "En el caso de las redes con activación sigmoidal, en los 25 experimentos se observa convergencia en el entrenamiento, además no se observa overfitting. En el caso de las redes con activacion ReLu, se observa divergencia en gran parte de los experimentos. Esto probablemente se deba a que la función rectificadora no está acotada por la derecha, por lo que es probable que eso afecte en las predicciones del modelo mientras se entrena."
   ]
  },
  {
   "cell_type": "markdown",
   "metadata": {},
   "source": [
    "> _**Finalmente compare a través de una métrica de desempeño sobre el conjunto de pruebas, en este caso como trabajamos un problema desbalanceado, mida f1 score weighted, comente sobre esta decisión ¿Es esperable la diferencia entre relu y sigmoidal en base a los gráficos realizados?**_"
   ]
  },
  {
   "cell_type": "markdown",
   "metadata": {},
   "source": [
    "Para evaluar ambas redes se utiliza el f1 score, el cual trata de considerar la _**accuracy**_ y el _**recall**_. La precisión, en un problema de clasificación binario, se puede ver como la razón entre los verdaderos positivos y todos los valores entregados como positivos por el modelo. El recall en cambio, se puede ver como la razón entre los verdaderos positivos entre todos los valores verdaderos del conjunto. En problemas desbalanceados, si se considera solo la accuracy para evaluar los distintos modelos, se tenderá a elegir un modelo que clasifique la gran mayoría de los datos con los valores de la clase dominante, en cambio si se utiliza solo el recall para elegir el modelo, dicho modelo tenderá a clasificar todos los catos como la clase menos representada. Es por lo anterior que se utiliza el F1-Score, pues considera la media armónica entre ambas métricas.\n",
    "\n",
    "$$ F1_{score} = 2\\cdot\\frac{precision \\cdot recall}{precision + recall}$$\n",
    "\n",
    "Considerando los gráficos anteriores de ambas redes, es de esperar que la red con activación sigmoidal obtenga mejores resultados. Pues en el caso de la red con activación Relu, si se observa que el valor de la Loss es muy alto es porque $P(y|x)$ y $f(x)$ divergen mucho entre si."
   ]
  },
  {
   "cell_type": "code",
   "execution_count": 16,
   "metadata": {},
   "outputs": [
    {
     "data": {
      "text/plain": [
       "<keras.callbacks.History at 0x1c31e302208>"
      ]
     },
     "execution_count": 16,
     "metadata": {},
     "output_type": "execute_result"
    }
   ],
   "source": [
    "model_sigmoid = Sequential()\n",
    "model_sigmoid.add(Dense(256, input_dim=X_train_scaled.shape[1],kernel_initializer='uniform',activation='sigmoid'))\n",
    "model_sigmoid.add(Dense(1, kernel_initializer='uniform',activation=\"sigmoid\"))\n",
    "model_sigmoid.compile(optimizer=SGD(lr=0.01),loss='binary_crossentropy')\n",
    "model_sigmoid.fit(X_train_scaled,y_train,epochs=100,verbose=0,validation_data=(X_val_scaled,y_val))\n",
    "\n",
    "model_relu = Sequential()\n",
    "model_relu.add(Dense(256, input_dim=X_train_scaled.shape[1],kernel_initializer='uniform',activation='relu'))\n",
    "model_relu.add(Dense(1, kernel_initializer='uniform',activation=\"relu\"))\n",
    "model_relu.compile(optimizer=SGD(lr=0.01),loss='binary_crossentropy')\n",
    "model_relu.fit(X_train_scaled,y_train,epochs=100,verbose=0,validation_data=(X_val_scaled,y_val))"
   ]
  },
  {
   "cell_type": "code",
   "execution_count": 17,
   "metadata": {},
   "outputs": [
    {
     "name": "stdout",
     "output_type": "stream",
     "text": [
      "1248/1565 [======================>.......] - ETA: 0s F1 Score Sigmoid: 0.8401314633726691\n",
      "F1 Score Relu: 0.5470135402403773\n"
     ]
    },
    {
     "name": "stderr",
     "output_type": "stream",
     "text": [
      "c:\\mauro\\redesn~1\\env\\lib\\site-packages\\sklearn\\metrics\\classification.py:1143: UndefinedMetricWarning: F-score is ill-defined and being set to 0.0 in labels with no predicted samples.\n",
      "  'precision', 'predicted', average, warn_for)\n"
     ]
    }
   ],
   "source": [
    "f1_score_sigmoid = f1_score(y_test,model_sigmoid.predict_classes(X_test_scaled),average='weighted')\n",
    "f1_score_relu = f1_score(y_test,model_relu.predict_classes(X_test_scaled),average='weighted')\n",
    "\n",
    "print(\"F1 Score Sigmoid: \"+str(f1_score_sigmoid))\n",
    "print(\"F1 Score Relu: \"+str(f1_score_relu))"
   ]
  },
  {
   "cell_type": "markdown",
   "metadata": {},
   "source": [
    "Como era de esperar, la red con función de activación sigmoidal obtiene un F1-Score mejor que la red con función de activación Relu."
   ]
  },
  {
   "cell_type": "markdown",
   "metadata": {},
   "source": [
    "> _**d) Repita c) variando la tasa de aprendizaje (learning rate) en un rango sensible. Comente. Si observa divergencia durante el entrenamiento, determine si esto ocurre para cada repetición del experimento o para alguna de las dos funciones de activación experimentadas.**_"
   ]
  },
  {
   "cell_type": "markdown",
   "metadata": {},
   "source": [
    "Se utilizan 20 learning rates distintas, en un rango entre 0 y 1, para las redes entrenadas anteriormente. Por cada learning rate se entrenan 3 redes por cada función de activación, lo anterior por un tema de tiempo de entrenamiento, pues finalmente se terminan entrenando 120 redes.  "
   ]
  },
  {
   "cell_type": "code",
   "execution_count": 18,
   "metadata": {},
   "outputs": [],
   "source": [
    "n_lr = 20\n",
    "learn_rate = np.linspace(0,1,n_lr)\n",
    "\n",
    "lr_sigmoid_dict = dict()\n",
    "lr_relu_dict = dict()\n",
    "model_sigmoid_dict = dict()\n",
    "model_relu_dict = dict()\n",
    "for lr in learn_rate:\n",
    "    sigmoid_list = []\n",
    "    relu_list = []\n",
    "    for i in range(3):\n",
    "    # Training FF with sigmoid activation\n",
    "        model_sigmoid = Sequential()\n",
    "        model_sigmoid.add(Dense(256, input_dim=X_train_scaled.shape[1],kernel_initializer='uniform',activation='sigmoid'))\n",
    "        model_sigmoid.add(Dense(1, kernel_initializer='uniform',activation='sigmoid'))\n",
    "        model_sigmoid.compile(optimizer=SGD(lr=lr),loss='binary_crossentropy')\n",
    "        hist_sigmoid = model_sigmoid.fit(X_train_scaled,y_train,epochs=100,verbose=0,validation_data=(X_val_scaled,y_val))\n",
    "        sigmoid_list.append(hist_sigmoid)\n",
    "        # Training FF with relu activation\n",
    "        model_relu = Sequential()\n",
    "        model_relu.add(Dense(256, input_dim=X_train_scaled.shape[1],kernel_initializer='uniform',activation='sigmoid'))\n",
    "        model_relu.add(Dense(1, kernel_initializer='uniform',activation='sigmoid'))\n",
    "        model_relu.compile(optimizer=SGD(lr=lr),loss='binary_crossentropy')\n",
    "        hist_relu = model_relu.fit(X_train_scaled,y_train,epochs=100,verbose=0,validation_data=(X_val_scaled,y_val))\n",
    "        relu_list.append(hist_relu)\n",
    "\n",
    "    lr_sigmoid_dict[str(lr)] = sigmoid_list\n",
    "    lr_relu_dict[str(lr)] = relu_list\n",
    "    model_sigmoid_dict[str(lr)] = model_sigmoid\n",
    "    model_relu_dict[str(lr)] = model_relu"
   ]
  },
  {
   "cell_type": "code",
   "execution_count": 34,
   "metadata": {},
   "outputs": [],
   "source": [
    "def graph_loss_lr(lr):\n",
    "    sig_list = lr_sigmoid_dict[str(lr)]\n",
    "    relu_list = lr_relu_dict[str(lr)]\n",
    "    plt.figure(figsize=(20,7))\n",
    "    plt.subplot(121)\n",
    "\n",
    "    plt.title(\"Cross-Entropy Loss, with sigmoid activation and lr = \"+str(lr))\n",
    "    plt.xlabel(\"Epoch\")\n",
    "    plt.ylabel(\"Loss\")\n",
    "    for i in sig_list:\n",
    "        plt.plot(epoch_list,i.history['loss'],color=\"blue\")\n",
    "        plt.plot(epoch_list,i.history['val_loss'],color=\"green\")\n",
    "    plt.legend(['Train set','Validation set'],loc='upper right')\n",
    "    plt.subplot(122)\n",
    "    plt.title(\"Cross-Entropy Loss, with relu activation and lr = \"+str(lr))\n",
    "    plt.xlabel(\"Epoch\")\n",
    "    plt.ylabel(\"Loss\")\n",
    "    \n",
    "    for i in relu_list:\n",
    "        plt.plot(epoch_list,i.history['loss'],color=\"red\")\n",
    "        plt.plot(epoch_list,i.history['val_loss'],color=\"yellow\")\n",
    "    plt.legend(['Train Set','Validation Set'],loc='upper right')\n",
    "    plt.show()\n",
    "    f1_score_sigmoid = f1_score(y_test,model_sigmoid_dict[str(lr)].predict_classes(X_test_scaled),average='weighted')\n",
    "    f1_score_relu = f1_score(y_test,model_relu_dict[str(lr)].predict_classes(X_test_scaled),average='weighted')\n",
    "    print(\"F1 Score Sigmoid: \"+str(f1_score_sigmoid))\n",
    "    print(\"F1 Score Relu: \"+str(f1_score_relu))"
   ]
  },
  {
   "cell_type": "code",
   "execution_count": 35,
   "metadata": {},
   "outputs": [
    {
     "data": {
      "application/vnd.jupyter.widget-view+json": {
       "model_id": "3e82a17b30a74260a5713c3b8771efe4",
       "version_major": 2,
       "version_minor": 0
      },
      "text/plain": [
       "interactive(children=(Dropdown(description='lr', options=(0.0, 0.05263157894736842, 0.10526315789473684, 0.157…"
      ]
     },
     "metadata": {},
     "output_type": "display_data"
    },
    {
     "data": {
      "text/plain": [
       "<function __main__.graph_loss_lr(lr)>"
      ]
     },
     "execution_count": 35,
     "metadata": {},
     "output_type": "execute_result"
    }
   ],
   "source": [
    "epoch_list = [x for x in range(1,101)]\n",
    "interact(graph_loss_lr, lr=learn_rate)"
   ]
  },
  {
   "cell_type": "markdown",
   "metadata": {},
   "source": [
    "Como es de esperar, cuando se utiliza 0 como learning rate se obtienen resultados determinados por la inicialización de los pesos (glorot uniforme por defecto). Algo interesante en este caso es que los 3 experimentos realizados con Relu tienen mejor desempeño que los realizados con la función de activación Sigmoidal, lo que se ve reflejados en sus F1-Score, los que son bastante deficientes. Al aumentar el learning rate a 0.05 se observa que ambos métodos convergen, aunque se comienzan a observar ligeros aumentos en el conjunto de validación de ambas redes, lo que se debe a que teóricamente la técnica de Gradiente Descendente Estocástico no asegura que la última iteración sea la mejor, si no que puede aparecer antes. Los aumentos anteriores se hacen más pronunciados debido a que las actualizaciones de los pesos son más bruscas debido al aumento en la learning rate. Aumentando el learning rate a 0.10 se observa que los aumentos en el conjunto de validación de la red con activación Relu se comiezan a intensificar en comparación a los de la red con activación sigmoidal, esto podría indicar que al seguir aumentando la tasa de aprendizaje lo más probable es que la red con activación Relu comience a diverger primero. Aumentando la tasa a 0.15 se intensifican aún más los aumentos en ambas redes, siendo aún más pronunciados los aumentos en la red con activación Relu. \n",
    "\n",
    "La situación anterior se sigue dando hasta probar con una learning rate igual a 0.42, donde se observa diverencia en la red con activación relu. Algo curioso es que una de las repeciones se mantiene constante, problemente en dicho caso se llegó al caso de neuronas muertas, el cual se produce cuando un número muy grande de neuronas se estancan en la parte nula de la activación ReLu. El fenómeno anterior se produce para la red con activación sigmoidal al aumentar la tasa a 0.47."
   ]
  }
 ],
 "metadata": {
  "kernelspec": {
   "display_name": "Python 3",
   "language": "python",
   "name": "python3"
  },
  "language_info": {
   "codemirror_mode": {
    "name": "ipython",
    "version": 3
   },
   "file_extension": ".py",
   "mimetype": "text/x-python",
   "name": "python",
   "nbconvert_exporter": "python",
   "pygments_lexer": "ipython3",
   "version": "3.6.0"
  }
 },
 "nbformat": 4,
 "nbformat_minor": 2
}
